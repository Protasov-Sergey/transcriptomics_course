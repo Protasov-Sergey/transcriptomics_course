{
  "cells": [
    {
      "cell_type": "markdown",
      "metadata": {
        "id": "V67cia4EXH5a"
      },
      "source": [
        "# Семинар 1. Базовая работа с прочтениями\n",
        "\n",
        "На этом семинаре мы разберём, как хранятся прочтения, какие есть открытые базы данных с прочтениями, а также то, как с ними правильно работать."
      ]
    },
    {
      "cell_type": "markdown",
      "metadata": {
        "id": "4rLoS9QsdRhx"
      },
      "source": [
        "В данной части мы (для уменьшения времени выполнения) будем опираться на датасет <code>SRR3900953</code> (это не RNA-Seq!), однако абсолютно все те же процедуры можно выполнить и для RNA-Seq прочтений (про это будет домашнее задание)."
      ]
    },
    {
      "cell_type": "markdown",
      "metadata": {
        "id": "6Oo_Qo8dcnth"
      },
      "source": [
        "## Загрузка прочтений"
      ]
    },
    {
      "cell_type": "markdown",
      "metadata": {
        "id": "bI4GQExsmKSP"
      },
      "source": [
        "### SRA Toolkit"
      ]
    },
    {
      "cell_type": "markdown",
      "metadata": {
        "id": "Pu1G84tsmmxM"
      },
      "source": [
        "Для того, чтобы загрузить SRA-эксперимент и преобразовать его в .fastq-прочтения (мы сделаем это одновременно одной командой, однако можно выполнить их независимо), необходимо выполнить следующие команды. Сначала мы загрузим SRA Toolkit с сайта NCBI:"
      ]
    },
    {
      "cell_type": "code",
      "execution_count": 8,
      "metadata": {
        "colab": {
          "base_uri": "https://localhost:8080/"
        },
        "id": "8Io2LvW2fW-L",
        "outputId": "270b2cd3-d222-4ff0-82b6-180cf6484490"
      },
      "outputs": [
        {
          "output_type": "stream",
          "name": "stdout",
          "text": [
            "--2022-09-23 15:15:24--  https://ftp-trace.ncbi.nlm.nih.gov/sra/sdk/3.0.0/sratoolkit.3.0.0-ubuntu64.tar.gz\n",
            "Resolving ftp-trace.ncbi.nlm.nih.gov (ftp-trace.ncbi.nlm.nih.gov)... 165.112.9.228, 165.112.9.229, 2607:f220:41e:250::13, ...\n",
            "Connecting to ftp-trace.ncbi.nlm.nih.gov (ftp-trace.ncbi.nlm.nih.gov)|165.112.9.228|:443... connected.\n",
            "HTTP request sent, awaiting response... 200 OK\n",
            "Length: 85777118 (82M) [application/x-gzip]\n",
            "Saving to: ‘sratoolkit.3.0.0-ubuntu64.tar.gz.1’\n",
            "\n",
            "sratoolkit.3.0.0-ub 100%[===================>]  81.80M  88.8MB/s    in 0.9s    \n",
            "\n",
            "2022-09-23 15:15:25 (88.8 MB/s) - ‘sratoolkit.3.0.0-ubuntu64.tar.gz.1’ saved [85777118/85777118]\n",
            "\n",
            "sratoolkit.3.0.0-ubuntu64/\n",
            "sratoolkit.3.0.0-ubuntu64/bin/\n",
            "sratoolkit.3.0.0-ubuntu64/bin/abi-dump\n",
            "sratoolkit.3.0.0-ubuntu64/bin/abi-dump.3\n",
            "sratoolkit.3.0.0-ubuntu64/bin/abi-load\n",
            "sratoolkit.3.0.0-ubuntu64/bin/abi-load.3\n",
            "sratoolkit.3.0.0-ubuntu64/bin/align-info\n",
            "sratoolkit.3.0.0-ubuntu64/bin/align-info.3\n",
            "sratoolkit.3.0.0-ubuntu64/bin/bam-load\n",
            "sratoolkit.3.0.0-ubuntu64/bin/bam-load.3\n",
            "sratoolkit.3.0.0-ubuntu64/bin/cache-mgr\n",
            "sratoolkit.3.0.0-ubuntu64/bin/cache-mgr.3\n",
            "sratoolkit.3.0.0-ubuntu64/bin/cg-load\n",
            "sratoolkit.3.0.0-ubuntu64/bin/cg-load.3\n",
            "sratoolkit.3.0.0-ubuntu64/bin/dump-ref-fasta\n",
            "sratoolkit.3.0.0-ubuntu64/bin/dump-ref-fasta.3\n",
            "sratoolkit.3.0.0-ubuntu64/bin/fasterq-dump\n",
            "sratoolkit.3.0.0-ubuntu64/bin/fasterq-dump.3\n",
            "sratoolkit.3.0.0-ubuntu64/bin/fasterq-dump.3.0.0\n",
            "sratoolkit.3.0.0-ubuntu64/bin/fastq-dump\n",
            "sratoolkit.3.0.0-ubuntu64/bin/fastq-dump.3\n",
            "sratoolkit.3.0.0-ubuntu64/bin/fastq-dump.3.0.0\n",
            "sratoolkit.3.0.0-ubuntu64/bin/fastq-load\n",
            "sratoolkit.3.0.0-ubuntu64/bin/fastq-load.3\n",
            "sratoolkit.3.0.0-ubuntu64/bin/helicos-load\n",
            "sratoolkit.3.0.0-ubuntu64/bin/helicos-load.3\n",
            "sratoolkit.3.0.0-ubuntu64/bin/illumina-dump\n",
            "sratoolkit.3.0.0-ubuntu64/bin/illumina-dump.3\n",
            "sratoolkit.3.0.0-ubuntu64/bin/illumina-load\n",
            "sratoolkit.3.0.0-ubuntu64/bin/illumina-load.3\n",
            "sratoolkit.3.0.0-ubuntu64/bin/kar\n",
            "sratoolkit.3.0.0-ubuntu64/bin/kar.3\n",
            "sratoolkit.3.0.0-ubuntu64/bin/kdbmeta\n",
            "sratoolkit.3.0.0-ubuntu64/bin/kdbmeta.3\n",
            "sratoolkit.3.0.0-ubuntu64/bin/latf-load\n",
            "sratoolkit.3.0.0-ubuntu64/bin/latf-load.3\n",
            "sratoolkit.3.0.0-ubuntu64/bin/pacbio-load\n",
            "sratoolkit.3.0.0-ubuntu64/bin/pacbio-load.3\n",
            "sratoolkit.3.0.0-ubuntu64/bin/prefetch\n",
            "sratoolkit.3.0.0-ubuntu64/bin/prefetch.3\n",
            "sratoolkit.3.0.0-ubuntu64/bin/prefetch.3.0.0\n",
            "sratoolkit.3.0.0-ubuntu64/bin/rcexplain\n",
            "sratoolkit.3.0.0-ubuntu64/bin/rcexplain.3\n",
            "sratoolkit.3.0.0-ubuntu64/bin/sam-dump\n",
            "sratoolkit.3.0.0-ubuntu64/bin/sam-dump.3\n",
            "sratoolkit.3.0.0-ubuntu64/bin/sam-dump.3.0.0\n",
            "sratoolkit.3.0.0-ubuntu64/bin/sff-dump\n",
            "sratoolkit.3.0.0-ubuntu64/bin/sff-dump.3\n",
            "sratoolkit.3.0.0-ubuntu64/bin/sff-load\n",
            "sratoolkit.3.0.0-ubuntu64/bin/sff-load.3\n",
            "sratoolkit.3.0.0-ubuntu64/bin/sra-pileup\n",
            "sratoolkit.3.0.0-ubuntu64/bin/sra-pileup.3\n",
            "sratoolkit.3.0.0-ubuntu64/bin/sra-pileup.3.0.0\n",
            "sratoolkit.3.0.0-ubuntu64/bin/sra-search\n",
            "sratoolkit.3.0.0-ubuntu64/bin/sra-search.3\n",
            "sratoolkit.3.0.0-ubuntu64/bin/sra-sort\n",
            "sratoolkit.3.0.0-ubuntu64/bin/sra-sort-cg\n",
            "sratoolkit.3.0.0-ubuntu64/bin/sra-sort-cg.3\n",
            "sratoolkit.3.0.0-ubuntu64/bin/sra-sort.3\n",
            "sratoolkit.3.0.0-ubuntu64/bin/sra-stat\n",
            "sratoolkit.3.0.0-ubuntu64/bin/sra-stat.3\n",
            "sratoolkit.3.0.0-ubuntu64/bin/srapath\n",
            "sratoolkit.3.0.0-ubuntu64/bin/srapath.3\n",
            "sratoolkit.3.0.0-ubuntu64/bin/srapath.3.0.0\n",
            "sratoolkit.3.0.0-ubuntu64/bin/srf-load\n",
            "sratoolkit.3.0.0-ubuntu64/bin/srf-load.3\n",
            "sratoolkit.3.0.0-ubuntu64/bin/test-sra\n",
            "sratoolkit.3.0.0-ubuntu64/bin/test-sra.3\n",
            "sratoolkit.3.0.0-ubuntu64/bin/vdb-config\n",
            "sratoolkit.3.0.0-ubuntu64/bin/vdb-config.3\n",
            "sratoolkit.3.0.0-ubuntu64/bin/vdb-copy\n",
            "sratoolkit.3.0.0-ubuntu64/bin/vdb-copy.3\n",
            "sratoolkit.3.0.0-ubuntu64/bin/vdb-decrypt\n",
            "sratoolkit.3.0.0-ubuntu64/bin/vdb-decrypt.3\n",
            "sratoolkit.3.0.0-ubuntu64/bin/vdb-dump\n",
            "sratoolkit.3.0.0-ubuntu64/bin/vdb-dump.3\n",
            "sratoolkit.3.0.0-ubuntu64/bin/vdb-dump.3.0.0\n",
            "sratoolkit.3.0.0-ubuntu64/bin/vdb-encrypt\n",
            "sratoolkit.3.0.0-ubuntu64/bin/vdb-encrypt.3\n",
            "sratoolkit.3.0.0-ubuntu64/bin/vdb-lock\n",
            "sratoolkit.3.0.0-ubuntu64/bin/vdb-lock.3\n",
            "sratoolkit.3.0.0-ubuntu64/bin/vdb-unlock\n",
            "sratoolkit.3.0.0-ubuntu64/bin/vdb-unlock.3\n",
            "sratoolkit.3.0.0-ubuntu64/bin/vdb-validate\n",
            "sratoolkit.3.0.0-ubuntu64/bin/vdb-validate.3\n",
            "sratoolkit.3.0.0-ubuntu64/bin/ncbi/\n",
            "sratoolkit.3.0.0-ubuntu64/bin/ncbi/certs.kfg\n",
            "sratoolkit.3.0.0-ubuntu64/bin/ncbi/default.kfg\n",
            "sratoolkit.3.0.0-ubuntu64/bin/ncbi/vdb-copy.kfg\n",
            "sratoolkit.3.0.0-ubuntu64/bin/srapath-orig.3.0.0\n",
            "sratoolkit.3.0.0-ubuntu64/bin/sratools.3.0.0\n",
            "sratoolkit.3.0.0-ubuntu64/bin/srf-load.3.0.0\n",
            "sratoolkit.3.0.0-ubuntu64/bin/test-sra.3.0.0\n",
            "sratoolkit.3.0.0-ubuntu64/bin/vdb-config.3.0.0\n",
            "sratoolkit.3.0.0-ubuntu64/bin/vdb-copy.3.0.0\n",
            "sratoolkit.3.0.0-ubuntu64/bin/vdb-decrypt.3.0.0\n",
            "sratoolkit.3.0.0-ubuntu64/bin/vdb-dump-orig.3.0.0\n",
            "sratoolkit.3.0.0-ubuntu64/bin/vdb-encrypt.3.0.0\n",
            "sratoolkit.3.0.0-ubuntu64/bin/vdb-lock.3.0.0\n",
            "sratoolkit.3.0.0-ubuntu64/bin/vdb-unlock.3.0.0\n",
            "sratoolkit.3.0.0-ubuntu64/bin/vdb-validate.3.0.0\n",
            "sratoolkit.3.0.0-ubuntu64/bin/abi-dump.3.0.0\n",
            "sratoolkit.3.0.0-ubuntu64/bin/abi-load.3.0.0\n",
            "sratoolkit.3.0.0-ubuntu64/bin/align-info.3.0.0\n",
            "sratoolkit.3.0.0-ubuntu64/bin/bam-load.3.0.0\n",
            "sratoolkit.3.0.0-ubuntu64/bin/cache-mgr.3.0.0\n",
            "sratoolkit.3.0.0-ubuntu64/bin/cg-load.3.0.0\n",
            "sratoolkit.3.0.0-ubuntu64/bin/dump-ref-fasta.3.0.0\n",
            "sratoolkit.3.0.0-ubuntu64/bin/fasterq-dump-orig.3.0.0\n",
            "sratoolkit.3.0.0-ubuntu64/bin/fastq-dump-orig.3.0.0\n",
            "sratoolkit.3.0.0-ubuntu64/bin/fastq-load.3.0.0\n",
            "sratoolkit.3.0.0-ubuntu64/bin/helicos-load.3.0.0\n",
            "sratoolkit.3.0.0-ubuntu64/bin/illumina-dump.3.0.0\n",
            "sratoolkit.3.0.0-ubuntu64/bin/illumina-load.3.0.0\n",
            "sratoolkit.3.0.0-ubuntu64/bin/kar.3.0.0\n",
            "sratoolkit.3.0.0-ubuntu64/bin/kdbmeta.3.0.0\n",
            "sratoolkit.3.0.0-ubuntu64/bin/latf-load.3.0.0\n",
            "sratoolkit.3.0.0-ubuntu64/bin/pacbio-load.3.0.0\n",
            "sratoolkit.3.0.0-ubuntu64/bin/prefetch-orig.3.0.0\n",
            "sratoolkit.3.0.0-ubuntu64/bin/rcexplain.3.0.0\n",
            "sratoolkit.3.0.0-ubuntu64/bin/sam-dump-orig.3.0.0\n",
            "sratoolkit.3.0.0-ubuntu64/bin/sff-dump.3.0.0\n",
            "sratoolkit.3.0.0-ubuntu64/bin/sff-load.3.0.0\n",
            "sratoolkit.3.0.0-ubuntu64/bin/sra-pileup-orig.3.0.0\n",
            "sratoolkit.3.0.0-ubuntu64/bin/sra-search.3.0.0\n",
            "sratoolkit.3.0.0-ubuntu64/bin/sra-sort-cg.3.0.0\n",
            "sratoolkit.3.0.0-ubuntu64/bin/sra-sort.3.0.0\n",
            "sratoolkit.3.0.0-ubuntu64/bin/sra-stat.3.0.0\n",
            "sratoolkit.3.0.0-ubuntu64/example/\n",
            "sratoolkit.3.0.0-ubuntu64/example/perl/\n",
            "sratoolkit.3.0.0-ubuntu64/example/perl/base-stats.pl\n",
            "sratoolkit.3.0.0-ubuntu64/example/perl/dump-reference.pl\n",
            "sratoolkit.3.0.0-ubuntu64/example/perl/gene-lookup.pl\n",
            "sratoolkit.3.0.0-ubuntu64/example/perl/mismatch-stats.pl\n",
            "sratoolkit.3.0.0-ubuntu64/example/perl/quality-stats.pl\n",
            "sratoolkit.3.0.0-ubuntu64/example/perl/simplefastq.pl\n",
            "sratoolkit.3.0.0-ubuntu64/example/perl/splitfastq.pl\n",
            "sratoolkit.3.0.0-ubuntu64/README-blastn\n",
            "sratoolkit.3.0.0-ubuntu64/README-vdb-config\n",
            "sratoolkit.3.0.0-ubuntu64/schema/\n",
            "sratoolkit.3.0.0-ubuntu64/schema/align/\n",
            "sratoolkit.3.0.0-ubuntu64/schema/align/align.vschema\n",
            "sratoolkit.3.0.0-ubuntu64/schema/align/mate-cache.vschema\n",
            "sratoolkit.3.0.0-ubuntu64/schema/align/pileup-stats.vschema\n",
            "sratoolkit.3.0.0-ubuntu64/schema/align/qstat.vschema\n",
            "sratoolkit.3.0.0-ubuntu64/schema/align/refseq.vschema\n",
            "sratoolkit.3.0.0-ubuntu64/schema/align/seq.vschema\n",
            "sratoolkit.3.0.0-ubuntu64/schema/csra2/\n",
            "sratoolkit.3.0.0-ubuntu64/schema/csra2/csra2.vschema\n",
            "sratoolkit.3.0.0-ubuntu64/schema/csra2/read.vschema\n",
            "sratoolkit.3.0.0-ubuntu64/schema/csra2/reference.vschema\n",
            "sratoolkit.3.0.0-ubuntu64/schema/csra2/stats.vschema\n",
            "sratoolkit.3.0.0-ubuntu64/schema/insdc/\n",
            "sratoolkit.3.0.0-ubuntu64/schema/insdc/insdc.vschema\n",
            "sratoolkit.3.0.0-ubuntu64/schema/insdc/seq.vschema\n",
            "sratoolkit.3.0.0-ubuntu64/schema/insdc/sra.vschema\n",
            "sratoolkit.3.0.0-ubuntu64/schema/ncbi/\n",
            "sratoolkit.3.0.0-ubuntu64/schema/ncbi/clip.vschema\n",
            "sratoolkit.3.0.0-ubuntu64/schema/ncbi/ncbi.vschema\n",
            "sratoolkit.3.0.0-ubuntu64/schema/ncbi/pnbrdb.vschema\n",
            "sratoolkit.3.0.0-ubuntu64/schema/ncbi/seq-graph.vschema\n",
            "sratoolkit.3.0.0-ubuntu64/schema/ncbi/seq.vschema\n",
            "sratoolkit.3.0.0-ubuntu64/schema/ncbi/spotname.vschema\n",
            "sratoolkit.3.0.0-ubuntu64/schema/ncbi/sra.vschema\n",
            "sratoolkit.3.0.0-ubuntu64/schema/ncbi/stats.vschema\n",
            "sratoolkit.3.0.0-ubuntu64/schema/ncbi/trace.vschema\n",
            "sratoolkit.3.0.0-ubuntu64/schema/ncbi/varloc.vschema\n",
            "sratoolkit.3.0.0-ubuntu64/schema/ncbi/wgs-contig.vschema\n",
            "sratoolkit.3.0.0-ubuntu64/schema/sra/\n",
            "sratoolkit.3.0.0-ubuntu64/schema/sra/454.vschema\n",
            "sratoolkit.3.0.0-ubuntu64/schema/sra/abi.vschema\n",
            "sratoolkit.3.0.0-ubuntu64/schema/sra/generic-fastq.vschema\n",
            "sratoolkit.3.0.0-ubuntu64/schema/sra/helicos.vschema\n",
            "sratoolkit.3.0.0-ubuntu64/schema/sra/illumina.vschema\n",
            "sratoolkit.3.0.0-ubuntu64/schema/sra/ion-torrent.vschema\n",
            "sratoolkit.3.0.0-ubuntu64/schema/sra/nanopore.vschema\n",
            "sratoolkit.3.0.0-ubuntu64/schema/sra/pacbio.vschema\n",
            "sratoolkit.3.0.0-ubuntu64/schema/sra/pevents.vschema\n",
            "sratoolkit.3.0.0-ubuntu64/schema/vdb/\n",
            "sratoolkit.3.0.0-ubuntu64/schema/vdb/built-in.vschema\n",
            "sratoolkit.3.0.0-ubuntu64/schema/vdb/vdb.vschema\n",
            "sratoolkit.3.0.0-ubuntu64/CHANGES\n",
            "sratoolkit.3.0.0-ubuntu64/README.md\n"
          ]
        }
      ],
      "source": [
        "#@title\n",
        "!wget https://ftp-trace.ncbi.nlm.nih.gov/sra/sdk/3.0.0/sratoolkit.3.0.0-ubuntu64.tar.gz\n",
        "!tar -xvzf sratoolkit.3.0.0-ubuntu64.tar.gz"
      ]
    },
    {
      "cell_type": "markdown",
      "metadata": {
        "id": "A7Pi8Jvhnwpv"
      },
      "source": [
        "Нам необходимо загрузить прочтения при помощи программы <code>fasterq-dump</code> из SRA Toolkit. Внутри Google Colab настроить SRA Toolkit правильно крайне сложно, поэтому необходимо будет выполнить некоторую странную процедуру: специально вызвать Segmentation fault у инструмента <code>vdb-config</code>."
      ]
    },
    {
      "cell_type": "code",
      "execution_count": 9,
      "metadata": {
        "colab": {
          "base_uri": "https://localhost:8080/"
        },
        "id": "dTfvxgxCfnBi",
        "outputId": "70dd4450-9b46-4c1f-ab38-3a80deaf7943"
      },
      "outputs": [
        {
          "output_type": "stream",
          "name": "stdout",
          "text": [
            "\u001b[2J\u001b[?25l\u001b[?1000h\u001b[?1002h2022-09-23T15:15:28 vdb-config.3.0.0 fatal: SIGNAL - Segmentation fault \n"
          ]
        }
      ],
      "source": [
        "#@title\n",
        "!sratoolkit.3.0.0-ubuntu64/bin/vdb-config -i"
      ]
    },
    {
      "cell_type": "markdown",
      "metadata": {
        "id": "5Zv1dtd7o7S9"
      },
      "source": [
        "Теперь мы можем спокойно запустить <code>fastq-dump</code> и разархивировать наши прочтения:"
      ]
    },
    {
      "cell_type": "code",
      "execution_count": 10,
      "metadata": {
        "colab": {
          "base_uri": "https://localhost:8080/"
        },
        "id": "Oww6_RFqnMDT",
        "outputId": "c3dfd342-a8f2-47ad-f2ab-b820d6d61b0c"
      },
      "outputs": [
        {
          "output_type": "stream",
          "name": "stdout",
          "text": [
            "spots read      : 4,941,237\n",
            "reads read      : 9,882,474\n",
            "reads written   : 9,882,474\n"
          ]
        }
      ],
      "source": [
        "#@title\n",
        "!sratoolkit.3.0.0-ubuntu64/bin/fasterq-dump SRR3900953"
      ]
    },
    {
      "cell_type": "code",
      "execution_count": 11,
      "metadata": {
        "colab": {
          "base_uri": "https://localhost:8080/"
        },
        "id": "9CiTchhspfjm",
        "outputId": "03d886e0-4b08-47db-d731-03a4e781b0d0"
      },
      "outputs": [
        {
          "output_type": "stream",
          "name": "stdout",
          "text": [
            "+SRR3900953.4941235 8_2316_17189_101340_2 length=60\n",
            "CCCCCGGGCGGGGGGGGGCGGGGGEG@@FGGGGGGF>FGEFGGG>EGAGBFGGCF>GBG1\n",
            "@SRR3900953.4941236 8_2316_17335_101333_2 length=60\n",
            "CATGCGGTTTGGATGTGTTTGTTGAATGCAAGCCTGTGGAGGCGTTAACGTCTCAGTTAC\n",
            "+SRR3900953.4941236 8_2316_17335_101333_2 length=60\n",
            "BBCCCEGGGGGGGGGGGGGGGGGGGGGGGGGGGGGGGGGGGGGGGGGGGGGGGGGGGGGG\n",
            "@SRR3900953.4941237 8_2316_17416_101338_2 length=60\n",
            "CATGCCTGGTGTAAGGAAAATATCTGAGAACCGTCAGTGCAAAATCCATGCAATGTGGCC\n",
            "+SRR3900953.4941237 8_2316_17416_101338_2 length=60\n",
            "BCCBCCGGGGGGGGGGGGGGGGGGGGGGGGGGGGGGGGGGGGGGGGGGGGGGGGGGGGEG\n"
          ]
        }
      ],
      "source": [
        "#@title\n",
        "!tail SRR3900953_1.fastq"
      ]
    },
    {
      "cell_type": "markdown",
      "metadata": {
        "id": "l2PwnKaKmdtB"
      },
      "source": [
        "### SRA Explorer"
      ]
    },
    {
      "cell_type": "markdown",
      "metadata": {
        "id": "cIYjJgzgmpv1"
      },
      "source": [
        "Однако кроме вариантов загрузки из SRA при помощи SRA Toolkit можно попробовать загрузить прочтения при помощи web-страницы <a href=\"https://sra-explorer.info/\">SRA Explorer</a> &mdash; в таком случае пользователю просто будут указаны прямые ссылки на прочтения, а также много дополнительной информации. Однако не всегда это и правда поможет. Давайте посмотрим, какой результат будет при загрузке прочтений того же эксперимента из этого сервиса:"
      ]
    },
    {
      "cell_type": "code",
      "execution_count": 12,
      "metadata": {
        "colab": {
          "base_uri": "https://localhost:8080/"
        },
        "id": "ISnLFse3XEwB",
        "outputId": "614d659a-6152-4ac0-e22d-b5c9bc9828c7"
      },
      "outputs": [
        {
          "output_type": "stream",
          "name": "stdout",
          "text": [
            "--2022-09-23 15:16:29--  ftp://ftp.sra.ebi.ac.uk/vol1/fastq/SRR390/003/SRR3900953/SRR3900953_1.fastq.gz\n",
            "           => ‘SRR3900953_1.fastq.gz’\n",
            "Resolving ftp.sra.ebi.ac.uk (ftp.sra.ebi.ac.uk)... 193.62.193.138\n",
            "Connecting to ftp.sra.ebi.ac.uk (ftp.sra.ebi.ac.uk)|193.62.193.138|:21... connected.\n",
            "Logging in as anonymous ... Logged in!\n",
            "==> SYST ... done.    ==> PWD ... done.\n",
            "==> TYPE I ... done.  ==> CWD (1) /vol1/fastq/SRR390/003/SRR3900953 ... done.\n",
            "==> SIZE SRR3900953_1.fastq.gz ... 196393222\n",
            "==> PASV ... done.    ==> RETR SRR3900953_1.fastq.gz ... done.\n",
            "Length: 196393222 (187M) (unauthoritative)\n",
            "\n",
            "SRR3900953_1.fastq. 100%[===================>] 187.29M  26.0MB/s    in 36s     \n",
            "\n",
            "2022-09-23 15:17:07 (5.16 MB/s) - ‘SRR3900953_1.fastq.gz’ saved [196393222]\n",
            "\n",
            "--2022-09-23 15:17:07--  ftp://ftp.sra.ebi.ac.uk/vol1/fastq/SRR390/003/SRR3900953/SRR3900953_2.fastq.gz\n",
            "           => ‘SRR3900953_2.fastq.gz’\n",
            "Resolving ftp.sra.ebi.ac.uk (ftp.sra.ebi.ac.uk)... 193.62.193.138\n",
            "Connecting to ftp.sra.ebi.ac.uk (ftp.sra.ebi.ac.uk)|193.62.193.138|:21... connected.\n",
            "Logging in as anonymous ... Logged in!\n",
            "==> SYST ... done.    ==> PWD ... done.\n",
            "==> TYPE I ... done.  ==> CWD (1) /vol1/fastq/SRR390/003/SRR3900953 ... done.\n",
            "==> SIZE SRR3900953_2.fastq.gz ... 223659231\n",
            "==> PASV ... done.    ==> RETR SRR3900953_2.fastq.gz ... done.\n",
            "Length: 223659231 (213M) (unauthoritative)\n",
            "\n",
            "SRR3900953_2.fastq. 100%[===================>] 213.30M  27.3MB/s    in 15s     \n",
            "\n",
            "2022-09-23 15:17:23 (14.4 MB/s) - ‘SRR3900953_2.fastq.gz’ saved [223659231]\n",
            "\n"
          ]
        }
      ],
      "source": [
        "#@title\n",
        "!wget ftp://ftp.sra.ebi.ac.uk/vol1/fastq/SRR390/003/SRR3900953/SRR3900953_1.fastq.gz\n",
        "!wget ftp://ftp.sra.ebi.ac.uk/vol1/fastq/SRR390/003/SRR3900953/SRR3900953_2.fastq.gz"
      ]
    },
    {
      "cell_type": "markdown",
      "metadata": {
        "id": "3ktnEtOsqbBi"
      },
      "source": [
        "Конкретно в данном случае всё хорошо, однако посмотрите на то, что предлагает загрузить SRA Explorer в случае с датасетом <code>SRR6410603</code> (из <a href=\"https://www.nature.com/articles/s41598-018-23226-4\">статьи</a>, с которой вы будете работать дома). Иногда для того, чтобы конкретно распарсить SRA-файл, необходимо чётко обозначить, что файл с прочтениями нужно разбить на два &mdash; с прямыми и с обратными (в случае парноконцевого секвенирования). Здесь это сделано не было. Программа <code>fasterq-dump</code> это делает автоматически."
      ]
    },
    {
      "cell_type": "markdown",
      "metadata": {
        "id": "nfwWlxpHrN1s"
      },
      "source": [
        "#### Задание\n",
        "\n",
        "Прочитайте описание <a href=\"https://github.com/ncbi/sra-tools/wiki/HowTo:-fasterq-dump\">функции fasterq-dump</a> и ответьте на вопрос: какой командой мы сможем получить вместо нескольких файлов с прочтениями (прямыми и обратными) всего один?"
      ]
    },
    {
      "cell_type": "code",
      "execution_count": 13,
      "metadata": {
        "colab": {
          "base_uri": "https://localhost:8080/"
        },
        "id": "mN-S-jJNra7s",
        "outputId": "ee4b2a97-f7d7-401c-cd08-c6f9d088152b"
      },
      "outputs": [
        {
          "output_type": "stream",
          "name": "stdout",
          "text": [
            "spots read      : 4,941,237\n",
            "reads read      : 4,941,237\n",
            "reads written   : 4,941,237\n"
          ]
        }
      ],
      "source": [
        "#@title\n",
        "!sratoolkit.3.0.0-ubuntu64/bin/fasterq-dump --concatenate-reads SRR3900953"
      ]
    },
    {
      "cell_type": "code",
      "execution_count": 14,
      "metadata": {
        "colab": {
          "base_uri": "https://localhost:8080/"
        },
        "id": "MxL1QsP6sPy3",
        "outputId": "3522dc48-f4d1-4ea6-e00c-e9f1b2e3ae5f"
      },
      "outputs": [
        {
          "output_type": "stream",
          "name": "stdout",
          "text": [
            "@SRR3900953.1 8_1101_5015_2203_1 length=120\n",
            "AATTCCACAAAAAACTGGCATAGAAGCAATAGGAAAAATACTTGCCAGCACTGAAAAAATCCAGGATATATAGCCTTTATCCAAGTTCATACTTAGCCATAATGCATTTAAATTAATCAA\n",
            "+SRR3900953.1 8_1101_5015_2203_1 length=120\n",
            "GGGGGGCGGGEGGDDFDGGGGEGGGCGGGGGG:@GGGGGGGGGGGGGEGEFC1E@DGGFGGGGGGFECCFFGC1E1:FF>CFGEF:@D>GEG>:FEEFGFGG@8FGCDCDGG08C@FGF0\n"
          ]
        }
      ],
      "source": [
        "#@title\n",
        "!head -n 4 SRR3900953.fastq"
      ]
    },
    {
      "cell_type": "code",
      "execution_count": 15,
      "metadata": {
        "colab": {
          "base_uri": "https://localhost:8080/"
        },
        "id": "TQaBOK1YsWZl",
        "outputId": "bdddf52f-a60b-4112-ba3d-0c80dc74941e"
      },
      "outputs": [
        {
          "output_type": "stream",
          "name": "stdout",
          "text": [
            "@SRR3900953.1 8_1101_5015_2203_1 length=60\n",
            "AATTCCACAAAAAACTGGCATAGAAGCAATAGGAAAAATACTTGCCAGCACTGAAAAAAT\n",
            "+SRR3900953.1 8_1101_5015_2203_1 length=60\n",
            "GGGGGGCGGGEGGDDFDGGGGEGGGCGGGGGG:@GGGGGGGGGGGGGEGEFC1E@DGGFG\n"
          ]
        }
      ],
      "source": [
        "#@title\n",
        "!head -n 4 SRR3900953_1.fastq"
      ]
    },
    {
      "cell_type": "code",
      "execution_count": 16,
      "metadata": {
        "colab": {
          "base_uri": "https://localhost:8080/"
        },
        "id": "KaKD9DnisheJ",
        "outputId": "fe7bbd77-261c-47db-8f8f-6b3650c2970d"
      },
      "outputs": [
        {
          "output_type": "stream",
          "name": "stdout",
          "text": [
            "@SRR3900953.1 8_1101_5015_2203_1 length=60\n",
            "CCAGGATATATAGCCTTTATCCAAGTTCATACTTAGCCATAATGCATTTAAATTAATCAA\n",
            "+SRR3900953.1 8_1101_5015_2203_1 length=60\n",
            "GGGGGFECCFFGC1E1:FF>CFGEF:@D>GEG>:FEEFGFGG@8FGCDCDGG08C@FGF0\n"
          ]
        }
      ],
      "source": [
        "#@title\n",
        "!head -n 4 SRR3900953_2.fastq"
      ]
    },
    {
      "cell_type": "markdown",
      "metadata": {
        "id": "upB-1luOndSV"
      },
      "source": [
        "## Контроль качества прочтений"
      ]
    },
    {
      "cell_type": "markdown",
      "metadata": {
        "id": "yaAbLnqz8Gz-"
      },
      "source": [
        "### FastQC\n",
        "\n",
        "Для начала загрузим программу, при помощи которой мы будем проводить оценку качества, &mdash; <code>FastQC</code>."
      ]
    },
    {
      "cell_type": "code",
      "execution_count": 17,
      "metadata": {
        "colab": {
          "base_uri": "https://localhost:8080/"
        },
        "id": "u4IUo_zmeF5O",
        "outputId": "63b5fbc4-2a84-4dbc-b6ee-f2b539446ce1"
      },
      "outputs": [
        {
          "output_type": "stream",
          "name": "stdout",
          "text": [
            "--2022-09-23 15:18:19--  https://www.bioinformatics.babraham.ac.uk/projects/fastqc/fastqc_v0.11.9.zip\n",
            "Resolving www.bioinformatics.babraham.ac.uk (www.bioinformatics.babraham.ac.uk)... 149.155.133.4\n",
            "Connecting to www.bioinformatics.babraham.ac.uk (www.bioinformatics.babraham.ac.uk)|149.155.133.4|:443... connected.\n",
            "HTTP request sent, awaiting response... 200 OK\n",
            "Length: 10249221 (9.8M) [application/zip]\n",
            "Saving to: ‘fastqc_v0.11.9.zip’\n",
            "\n",
            "fastqc_v0.11.9.zip  100%[===================>]   9.77M  5.13MB/s    in 1.9s    \n",
            "\n",
            "2022-09-23 15:18:22 (5.13 MB/s) - ‘fastqc_v0.11.9.zip’ saved [10249221/10249221]\n",
            "\n",
            "Archive:  fastqc_v0.11.9.zip\n",
            "  inflating: FastQC/cisd-jhdf5.jar   \n",
            "   creating: FastQC/Configuration/\n",
            "  inflating: FastQC/Configuration/adapter_list.txt  \n",
            "  inflating: FastQC/Configuration/contaminant_list.txt  \n",
            "  inflating: FastQC/Configuration/limits.txt  \n",
            "  inflating: FastQC/fastqc           \n",
            "  inflating: FastQC/fastqc_icon.ico  \n",
            "   creating: FastQC/Help/\n",
            "   creating: FastQC/Help/1 Introduction/\n",
            "   creating: FastQC/Help/1 Introduction/.svn/\n",
            "  inflating: FastQC/Help/1 Introduction/.svn/entries  \n",
            "   creating: FastQC/Help/1 Introduction/.svn/props/\n",
            "   creating: FastQC/Help/1 Introduction/.svn/text-base/\n",
            "  inflating: FastQC/Help/1 Introduction/.svn/text-base/1.1 What is FastQC.html.svn-base  \n",
            "   creating: FastQC/Help/1 Introduction/.svn/tmp/\n",
            "   creating: FastQC/Help/1 Introduction/.svn/tmp/props/\n",
            "  inflating: FastQC/Help/1 Introduction/1.1 What is FastQC.html  \n",
            "   creating: FastQC/Help/2 Basic Operations/\n",
            "   creating: FastQC/Help/2 Basic Operations/.svn/\n",
            "  inflating: FastQC/Help/2 Basic Operations/.svn/entries  \n",
            "   creating: FastQC/Help/2 Basic Operations/.svn/props/\n",
            "   creating: FastQC/Help/2 Basic Operations/.svn/text-base/\n",
            "  inflating: FastQC/Help/2 Basic Operations/.svn/text-base/2.1 Opening a sequence file.html.svn-base  \n",
            "  inflating: FastQC/Help/2 Basic Operations/.svn/text-base/2.2 Evaluating Results.html.svn-base  \n",
            "  inflating: FastQC/Help/2 Basic Operations/.svn/text-base/2.3 Saving a Report.html.svn-base  \n",
            "   creating: FastQC/Help/2 Basic Operations/.svn/tmp/\n",
            "   creating: FastQC/Help/2 Basic Operations/.svn/tmp/props/\n",
            "  inflating: FastQC/Help/2 Basic Operations/2.1 Opening a sequence file.html  \n",
            "  inflating: FastQC/Help/2 Basic Operations/2.2 Evaluating Results.html  \n",
            "  inflating: FastQC/Help/2 Basic Operations/2.3 Saving a Report.html  \n",
            "   creating: FastQC/Help/3 Analysis Modules/\n",
            "   creating: FastQC/Help/3 Analysis Modules/.svn/\n",
            "  inflating: FastQC/Help/3 Analysis Modules/.svn/entries  \n",
            "   creating: FastQC/Help/3 Analysis Modules/.svn/prop-base/\n",
            " extracting: FastQC/Help/3 Analysis Modules/.svn/prop-base/duplication_levels.png.svn-base  \n",
            "  inflating: FastQC/Help/3 Analysis Modules/.svn/prop-base/kmer_profiles.png.svn-base  \n",
            " extracting: FastQC/Help/3 Analysis Modules/.svn/prop-base/per_base_gc_content.png.svn-base  \n",
            " extracting: FastQC/Help/3 Analysis Modules/.svn/prop-base/per_base_n_content.png.svn-base  \n",
            " extracting: FastQC/Help/3 Analysis Modules/.svn/prop-base/per_base_quality.png.svn-base  \n",
            " extracting: FastQC/Help/3 Analysis Modules/.svn/prop-base/per_base_sequence_content.png.svn-base  \n",
            " extracting: FastQC/Help/3 Analysis Modules/.svn/prop-base/per_sequence_gc_content.png.svn-base  \n",
            " extracting: FastQC/Help/3 Analysis Modules/.svn/prop-base/per_sequence_quality.png.svn-base  \n",
            " extracting: FastQC/Help/3 Analysis Modules/.svn/prop-base/per_tile_quality.png.svn-base  \n",
            " extracting: FastQC/Help/3 Analysis Modules/.svn/prop-base/sequence_length_distribution.png.svn-base  \n",
            "   creating: FastQC/Help/3 Analysis Modules/.svn/props/\n",
            "   creating: FastQC/Help/3 Analysis Modules/.svn/text-base/\n",
            "  inflating: FastQC/Help/3 Analysis Modules/.svn/text-base/1 Basic Statistics.html.svn-base  \n",
            "  inflating: FastQC/Help/3 Analysis Modules/.svn/text-base/10 Adapter Content.html.svn-base  \n",
            "  inflating: FastQC/Help/3 Analysis Modules/.svn/text-base/11 Kmer Content.html.svn-base  \n",
            "  inflating: FastQC/Help/3 Analysis Modules/.svn/text-base/12 Per Tile Sequence Quality.html.svn-base  \n",
            "  inflating: FastQC/Help/3 Analysis Modules/.svn/text-base/2 Per Base Sequence Quality.html.svn-base  \n",
            "  inflating: FastQC/Help/3 Analysis Modules/.svn/text-base/3 Per Sequence Quality Scores.html.svn-base  \n",
            "  inflating: FastQC/Help/3 Analysis Modules/.svn/text-base/4 Per Base Sequence Content.html.svn-base  \n",
            "  inflating: FastQC/Help/3 Analysis Modules/.svn/text-base/5 Per Sequence GC Content.html.svn-base  \n",
            "  inflating: FastQC/Help/3 Analysis Modules/.svn/text-base/6 Per Base N Content.html.svn-base  \n",
            "  inflating: FastQC/Help/3 Analysis Modules/.svn/text-base/7 Sequence Length Distribution.html.svn-base  \n",
            "  inflating: FastQC/Help/3 Analysis Modules/.svn/text-base/8 Duplicate Sequences.html.svn-base  \n",
            "  inflating: FastQC/Help/3 Analysis Modules/.svn/text-base/9 Overrepresented Sequences.html.svn-base  \n",
            "  inflating: FastQC/Help/3 Analysis Modules/.svn/text-base/duplication_levels.png.svn-base  \n",
            "  inflating: FastQC/Help/3 Analysis Modules/.svn/text-base/kmer_profiles.png.svn-base  \n",
            "  inflating: FastQC/Help/3 Analysis Modules/.svn/text-base/per_base_gc_content.png.svn-base  \n",
            "  inflating: FastQC/Help/3 Analysis Modules/.svn/text-base/per_base_n_content.png.svn-base  \n",
            "  inflating: FastQC/Help/3 Analysis Modules/.svn/text-base/per_base_quality.png.svn-base  \n",
            "  inflating: FastQC/Help/3 Analysis Modules/.svn/text-base/per_base_sequence_content.png.svn-base  \n",
            "  inflating: FastQC/Help/3 Analysis Modules/.svn/text-base/per_sequence_gc_content.png.svn-base  \n",
            "  inflating: FastQC/Help/3 Analysis Modules/.svn/text-base/per_sequence_quality.png.svn-base  \n",
            "  inflating: FastQC/Help/3 Analysis Modules/.svn/text-base/per_tile_quality.png.svn-base  \n",
            "  inflating: FastQC/Help/3 Analysis Modules/.svn/text-base/sequence_length_distribution.png.svn-base  \n",
            "   creating: FastQC/Help/3 Analysis Modules/.svn/tmp/\n",
            "   creating: FastQC/Help/3 Analysis Modules/.svn/tmp/props/\n",
            "  inflating: FastQC/Help/3 Analysis Modules/1 Basic Statistics.html  \n",
            "  inflating: FastQC/Help/3 Analysis Modules/10 Adapter Content.html  \n",
            "  inflating: FastQC/Help/3 Analysis Modules/11 Kmer Content.html  \n",
            "  inflating: FastQC/Help/3 Analysis Modules/12 Per Tile Sequence Quality.html  \n",
            "  inflating: FastQC/Help/3 Analysis Modules/2 Per Base Sequence Quality.html  \n",
            "  inflating: FastQC/Help/3 Analysis Modules/3 Per Sequence Quality Scores.html  \n",
            "  inflating: FastQC/Help/3 Analysis Modules/4 Per Base Sequence Content.html  \n",
            "  inflating: FastQC/Help/3 Analysis Modules/5 Per Sequence GC Content.html  \n",
            "  inflating: FastQC/Help/3 Analysis Modules/6 Per Base N Content.html  \n",
            "  inflating: FastQC/Help/3 Analysis Modules/7 Sequence Length Distribution.html  \n",
            "  inflating: FastQC/Help/3 Analysis Modules/8 Duplicate Sequences.html  \n",
            "  inflating: FastQC/Help/3 Analysis Modules/9 Overrepresented Sequences.html  \n",
            "  inflating: FastQC/Help/3 Analysis Modules/duplication_levels.png  \n",
            "  inflating: FastQC/Help/3 Analysis Modules/kmer_profiles.png  \n",
            "  inflating: FastQC/Help/3 Analysis Modules/per_base_gc_content.png  \n",
            "  inflating: FastQC/Help/3 Analysis Modules/per_base_n_content.png  \n",
            "  inflating: FastQC/Help/3 Analysis Modules/per_base_quality.png  \n",
            "  inflating: FastQC/Help/3 Analysis Modules/per_base_sequence_content.png  \n",
            "  inflating: FastQC/Help/3 Analysis Modules/per_sequence_gc_content.png  \n",
            "  inflating: FastQC/Help/3 Analysis Modules/per_sequence_quality.png  \n",
            "  inflating: FastQC/Help/3 Analysis Modules/per_tile_quality.png  \n",
            "  inflating: FastQC/Help/3 Analysis Modules/sequence_length_distribution.png  \n",
            "  inflating: FastQC/INSTALL.txt      \n",
            "  inflating: FastQC/jbzip2-0.9.jar   \n",
            "  inflating: FastQC/LICENSE          \n",
            "  inflating: FastQC/LICENSE.txt      \n",
            "  inflating: FastQC/LICENSE_JHDF5.txt  \n",
            "   creating: FastQC/net/\n",
            "   creating: FastQC/net/sourceforge/\n",
            "   creating: FastQC/net/sourceforge/iharder/\n",
            "   creating: FastQC/net/sourceforge/iharder/base64/\n",
            "  inflating: FastQC/net/sourceforge/iharder/base64/Base64$1.class  \n",
            "  inflating: FastQC/net/sourceforge/iharder/base64/Base64$InputStream.class  \n",
            "  inflating: FastQC/net/sourceforge/iharder/base64/Base64$OutputStream.class  \n",
            "  inflating: FastQC/net/sourceforge/iharder/base64/Base64.class  \n",
            "   creating: FastQC/org/\n",
            "   creating: FastQC/org/apache/\n",
            "   creating: FastQC/org/apache/commons/\n",
            "   creating: FastQC/org/apache/commons/math3/\n",
            "   creating: FastQC/org/apache/commons/math3/analysis/\n",
            "   creating: FastQC/org/apache/commons/math3/analysis/solvers/\n",
            "  inflating: FastQC/org/apache/commons/math3/analysis/solvers/AbstractUnivariateSolver.class  \n",
            "  inflating: FastQC/org/apache/commons/math3/analysis/solvers/AllowedSolution.class  \n",
            "  inflating: FastQC/org/apache/commons/math3/analysis/solvers/BaseAbstractUnivariateSolver.class  \n",
            "  inflating: FastQC/org/apache/commons/math3/analysis/solvers/BaseUnivariateSolver.class  \n",
            "  inflating: FastQC/org/apache/commons/math3/analysis/solvers/BracketedUnivariateSolver.class  \n",
            "  inflating: FastQC/org/apache/commons/math3/analysis/solvers/BrentSolver.class  \n",
            "  inflating: FastQC/org/apache/commons/math3/analysis/solvers/UnivariateSolver.class  \n",
            "  inflating: FastQC/org/apache/commons/math3/analysis/solvers/UnivariateSolverUtils.class  \n",
            "  inflating: FastQC/org/apache/commons/math3/analysis/UnivariateFunction.class  \n",
            "   creating: FastQC/org/apache/commons/math3/distribution/\n",
            "  inflating: FastQC/org/apache/commons/math3/distribution/AbstractIntegerDistribution.class  \n",
            "  inflating: FastQC/org/apache/commons/math3/distribution/AbstractRealDistribution$1.class  \n",
            "  inflating: FastQC/org/apache/commons/math3/distribution/AbstractRealDistribution.class  \n",
            "  inflating: FastQC/org/apache/commons/math3/distribution/BetaDistribution.class  \n",
            "  inflating: FastQC/org/apache/commons/math3/distribution/BinomialDistribution.class  \n",
            "  inflating: FastQC/org/apache/commons/math3/distribution/CauchyDistribution.class  \n",
            "  inflating: FastQC/org/apache/commons/math3/distribution/ChiSquaredDistribution.class  \n",
            "  inflating: FastQC/org/apache/commons/math3/distribution/FDistribution.class  \n",
            "  inflating: FastQC/org/apache/commons/math3/distribution/GammaDistribution.class  \n",
            "  inflating: FastQC/org/apache/commons/math3/distribution/HypergeometricDistribution.class  \n",
            "  inflating: FastQC/org/apache/commons/math3/distribution/IntegerDistribution.class  \n",
            "  inflating: FastQC/org/apache/commons/math3/distribution/NormalDistribution.class  \n",
            "  inflating: FastQC/org/apache/commons/math3/distribution/PascalDistribution.class  \n",
            "  inflating: FastQC/org/apache/commons/math3/distribution/PoissonDistribution.class  \n",
            "  inflating: FastQC/org/apache/commons/math3/distribution/RealDistribution.class  \n",
            "  inflating: FastQC/org/apache/commons/math3/distribution/SaddlePointExpansion.class  \n",
            "  inflating: FastQC/org/apache/commons/math3/distribution/TDistribution.class  \n",
            "  inflating: FastQC/org/apache/commons/math3/distribution/WeibullDistribution.class  \n",
            "  inflating: FastQC/org/apache/commons/math3/distribution/ZipfDistribution.class  \n",
            "   creating: FastQC/org/apache/commons/math3/exception/\n",
            "  inflating: FastQC/org/apache/commons/math3/exception/ConvergenceException.class  \n",
            "  inflating: FastQC/org/apache/commons/math3/exception/DimensionMismatchException.class  \n",
            "  inflating: FastQC/org/apache/commons/math3/exception/MathArithmeticException.class  \n",
            "  inflating: FastQC/org/apache/commons/math3/exception/MathIllegalArgumentException.class  \n",
            "  inflating: FastQC/org/apache/commons/math3/exception/MathIllegalNumberException.class  \n",
            "  inflating: FastQC/org/apache/commons/math3/exception/MathIllegalStateException.class  \n",
            "  inflating: FastQC/org/apache/commons/math3/exception/MathInternalError.class  \n",
            "  inflating: FastQC/org/apache/commons/math3/exception/MaxCountExceededException.class  \n",
            "  inflating: FastQC/org/apache/commons/math3/exception/NoBracketingException.class  \n",
            "  inflating: FastQC/org/apache/commons/math3/exception/NotFiniteNumberException.class  \n",
            "  inflating: FastQC/org/apache/commons/math3/exception/NotPositiveException.class  \n",
            "  inflating: FastQC/org/apache/commons/math3/exception/NotStrictlyPositiveException.class  \n",
            "  inflating: FastQC/org/apache/commons/math3/exception/NullArgumentException.class  \n",
            "  inflating: FastQC/org/apache/commons/math3/exception/NumberIsTooLargeException.class  \n",
            "  inflating: FastQC/org/apache/commons/math3/exception/NumberIsTooSmallException.class  \n",
            "  inflating: FastQC/org/apache/commons/math3/exception/OutOfRangeException.class  \n",
            "  inflating: FastQC/org/apache/commons/math3/exception/TooManyEvaluationsException.class  \n",
            "   creating: FastQC/org/apache/commons/math3/exception/util/\n",
            "  inflating: FastQC/org/apache/commons/math3/exception/util/ArgUtils.class  \n",
            "  inflating: FastQC/org/apache/commons/math3/exception/util/ExceptionContext.class  \n",
            "  inflating: FastQC/org/apache/commons/math3/exception/util/ExceptionContextProvider.class  \n",
            "  inflating: FastQC/org/apache/commons/math3/exception/util/Localizable.class  \n",
            "  inflating: FastQC/org/apache/commons/math3/exception/util/LocalizedFormats.class  \n",
            "   creating: FastQC/org/apache/commons/math3/random/\n",
            "  inflating: FastQC/org/apache/commons/math3/random/AbstractWell.class  \n",
            "  inflating: FastQC/org/apache/commons/math3/random/BitsStreamGenerator.class  \n",
            "  inflating: FastQC/org/apache/commons/math3/random/RandomData.class  \n",
            "  inflating: FastQC/org/apache/commons/math3/random/RandomDataImpl.class  \n",
            "  inflating: FastQC/org/apache/commons/math3/random/RandomGenerator.class  \n",
            "  inflating: FastQC/org/apache/commons/math3/random/Well19937c.class  \n",
            "   creating: FastQC/org/apache/commons/math3/special/\n",
            "  inflating: FastQC/org/apache/commons/math3/special/Beta$1.class  \n",
            "  inflating: FastQC/org/apache/commons/math3/special/Beta.class  \n",
            "  inflating: FastQC/org/apache/commons/math3/special/Erf.class  \n",
            "  inflating: FastQC/org/apache/commons/math3/special/Gamma$1.class  \n",
            "  inflating: FastQC/org/apache/commons/math3/special/Gamma.class  \n",
            "   creating: FastQC/org/apache/commons/math3/util/\n",
            "  inflating: FastQC/org/apache/commons/math3/util/ArithmeticUtils.class  \n",
            "  inflating: FastQC/org/apache/commons/math3/util/ContinuedFraction.class  \n",
            "  inflating: FastQC/org/apache/commons/math3/util/DoubleArray.class  \n",
            "  inflating: FastQC/org/apache/commons/math3/util/FastMath$ExpFracTable.class  \n",
            "  inflating: FastQC/org/apache/commons/math3/util/FastMath$ExpIntTable.class  \n",
            "  inflating: FastQC/org/apache/commons/math3/util/FastMath$lnMant.class  \n",
            "  inflating: FastQC/org/apache/commons/math3/util/FastMath.class  \n",
            "  inflating: FastQC/org/apache/commons/math3/util/FastMathCalc.class  \n",
            "  inflating: FastQC/org/apache/commons/math3/util/FastMathLiteralArrays.class  \n",
            "  inflating: FastQC/org/apache/commons/math3/util/Incrementor$1.class  \n",
            "  inflating: FastQC/org/apache/commons/math3/util/Incrementor$MaxCountExceededCallback.class  \n",
            "  inflating: FastQC/org/apache/commons/math3/util/Incrementor.class  \n",
            "  inflating: FastQC/org/apache/commons/math3/util/MathUtils.class  \n",
            "  inflating: FastQC/org/apache/commons/math3/util/Precision.class  \n",
            "  inflating: FastQC/org/apache/commons/math3/util/ResizableDoubleArray.class  \n",
            "  inflating: FastQC/README.md        \n",
            "  inflating: FastQC/README.txt       \n",
            "  inflating: FastQC/RELEASE_NOTES.txt  \n",
            "  inflating: FastQC/run_fastqc.bat   \n",
            "  inflating: FastQC/sam-1.103.jar    \n",
            "   creating: FastQC/Templates/\n",
            "  inflating: FastQC/Templates/fastqc2fo.xsl  \n",
            "  inflating: FastQC/Templates/header_template.html  \n",
            "   creating: FastQC/Templates/Icons/\n",
            " extracting: FastQC/Templates/Icons/error.png  \n",
            " extracting: FastQC/Templates/Icons/fastqc_icon.png  \n",
            " extracting: FastQC/Templates/Icons/tick.png  \n",
            " extracting: FastQC/Templates/Icons/warning.png  \n",
            "   creating: FastQC/uk/\n",
            "   creating: FastQC/uk/ac/\n",
            "   creating: FastQC/uk/ac/babraham/\n",
            "   creating: FastQC/uk/ac/babraham/FastQC/\n",
            "   creating: FastQC/uk/ac/babraham/FastQC/Analysis/\n",
            "  inflating: FastQC/uk/ac/babraham/FastQC/Analysis/AnalysisListener.class  \n",
            "  inflating: FastQC/uk/ac/babraham/FastQC/Analysis/AnalysisQueue.class  \n",
            "  inflating: FastQC/uk/ac/babraham/FastQC/Analysis/AnalysisRunner.class  \n",
            "  inflating: FastQC/uk/ac/babraham/FastQC/Analysis/OfflineRunner.class  \n",
            "   creating: FastQC/uk/ac/babraham/FastQC/Dialogs/\n",
            "  inflating: FastQC/uk/ac/babraham/FastQC/Dialogs/AboutDialog$1.class  \n",
            "  inflating: FastQC/uk/ac/babraham/FastQC/Dialogs/AboutDialog.class  \n",
            "  inflating: FastQC/uk/ac/babraham/FastQC/Dialogs/FastQCTitlePanel$SmoothJLabel.class  \n",
            "  inflating: FastQC/uk/ac/babraham/FastQC/Dialogs/FastQCTitlePanel.class  \n",
            "  inflating: FastQC/uk/ac/babraham/FastQC/Dialogs/WelcomePanel.class  \n",
            "  inflating: FastQC/uk/ac/babraham/FastQC/FastQCApplication$1.class  \n",
            "  inflating: FastQC/uk/ac/babraham/FastQC/FastQCApplication.class  \n",
            "  inflating: FastQC/uk/ac/babraham/FastQC/FastQCConfig.class  \n",
            "  inflating: FastQC/uk/ac/babraham/FastQC/FastQCMenuBar.class  \n",
            "   creating: FastQC/uk/ac/babraham/FastQC/FileFilters/\n",
            "  inflating: FastQC/uk/ac/babraham/FastQC/FileFilters/BAMFileFilter.class  \n",
            "  inflating: FastQC/uk/ac/babraham/FastQC/FileFilters/CasavaFastQFileFilter.class  \n",
            "  inflating: FastQC/uk/ac/babraham/FastQC/FileFilters/FastQFileFilter.class  \n",
            "  inflating: FastQC/uk/ac/babraham/FastQC/FileFilters/GobyFileFilter.class  \n",
            "  inflating: FastQC/uk/ac/babraham/FastQC/FileFilters/MappedBAMFileFilter.class  \n",
            "  inflating: FastQC/uk/ac/babraham/FastQC/FileFilters/SequenceFileFilter.class  \n",
            "   creating: FastQC/uk/ac/babraham/FastQC/Graphs/\n",
            "  inflating: FastQC/uk/ac/babraham/FastQC/Graphs/BaseGroup.class  \n",
            "  inflating: FastQC/uk/ac/babraham/FastQC/Graphs/LineGraph.class  \n",
            "  inflating: FastQC/uk/ac/babraham/FastQC/Graphs/QualityBoxPlot.class  \n",
            "  inflating: FastQC/uk/ac/babraham/FastQC/Graphs/TileGraph.class  \n",
            "   creating: FastQC/uk/ac/babraham/FastQC/Help/\n",
            "  inflating: FastQC/uk/ac/babraham/FastQC/Help/HelpDialog.class  \n",
            "  inflating: FastQC/uk/ac/babraham/FastQC/Help/HelpIndexRoot$FileSorter.class  \n",
            "  inflating: FastQC/uk/ac/babraham/FastQC/Help/HelpIndexRoot.class  \n",
            "  inflating: FastQC/uk/ac/babraham/FastQC/Help/HelpPage.class  \n",
            "  inflating: FastQC/uk/ac/babraham/FastQC/Help/HelpPageDisplay$HelpEditor.class  \n",
            "  inflating: FastQC/uk/ac/babraham/FastQC/Help/HelpPageDisplay.class  \n",
            "  inflating: FastQC/uk/ac/babraham/FastQC/Help/HelpSearchPanel.class  \n",
            "   creating: FastQC/uk/ac/babraham/FastQC/Modules/\n",
            "  inflating: FastQC/uk/ac/babraham/FastQC/Modules/AbstractQCModule.class  \n",
            "  inflating: FastQC/uk/ac/babraham/FastQC/Modules/AdapterContent$Adapter.class  \n",
            "  inflating: FastQC/uk/ac/babraham/FastQC/Modules/AdapterContent$ResultsTable.class  \n",
            "  inflating: FastQC/uk/ac/babraham/FastQC/Modules/AdapterContent.class  \n",
            "  inflating: FastQC/uk/ac/babraham/FastQC/Modules/BasicStats$ResultsTable.class  \n",
            "  inflating: FastQC/uk/ac/babraham/FastQC/Modules/BasicStats.class  \n",
            "  inflating: FastQC/uk/ac/babraham/FastQC/Modules/DuplicationLevel.class  \n",
            "   creating: FastQC/uk/ac/babraham/FastQC/Modules/GCModel/\n",
            "  inflating: FastQC/uk/ac/babraham/FastQC/Modules/GCModel/GCModel.class  \n",
            "  inflating: FastQC/uk/ac/babraham/FastQC/Modules/GCModel/GCModelValue.class  \n",
            "  inflating: FastQC/uk/ac/babraham/FastQC/Modules/KmerContent$Kmer.class  \n",
            "  inflating: FastQC/uk/ac/babraham/FastQC/Modules/KmerContent$ResultsTable.class  \n",
            "  inflating: FastQC/uk/ac/babraham/FastQC/Modules/KmerContent.class  \n",
            "  inflating: FastQC/uk/ac/babraham/FastQC/Modules/ModuleConfig.class  \n",
            "  inflating: FastQC/uk/ac/babraham/FastQC/Modules/ModuleFactory.class  \n",
            "  inflating: FastQC/uk/ac/babraham/FastQC/Modules/NContent.class  \n",
            "  inflating: FastQC/uk/ac/babraham/FastQC/Modules/OverRepresentedSeqs$OverrepresentedSeq.class  \n",
            "  inflating: FastQC/uk/ac/babraham/FastQC/Modules/OverRepresentedSeqs$ResultsTable.class  \n",
            "  inflating: FastQC/uk/ac/babraham/FastQC/Modules/OverRepresentedSeqs.class  \n",
            "  inflating: FastQC/uk/ac/babraham/FastQC/Modules/PerBaseQualityScores.class  \n",
            "  inflating: FastQC/uk/ac/babraham/FastQC/Modules/PerBaseSequenceContent.class  \n",
            "  inflating: FastQC/uk/ac/babraham/FastQC/Modules/PerSequenceGCContent.class  \n",
            "  inflating: FastQC/uk/ac/babraham/FastQC/Modules/PerSequenceQualityScores.class  \n",
            "  inflating: FastQC/uk/ac/babraham/FastQC/Modules/PerTileQualityScores.class  \n",
            "  inflating: FastQC/uk/ac/babraham/FastQC/Modules/QCModule.class  \n",
            "  inflating: FastQC/uk/ac/babraham/FastQC/Modules/SequenceLengthDistribution.class  \n",
            "   creating: FastQC/uk/ac/babraham/FastQC/Report/\n",
            "  inflating: FastQC/uk/ac/babraham/FastQC/Report/HTMLReportArchive.class  \n",
            "  inflating: FastQC/uk/ac/babraham/FastQC/Report/stylesheet.txt  \n",
            "   creating: FastQC/uk/ac/babraham/FastQC/Resources/\n",
            " extracting: FastQC/uk/ac/babraham/FastQC/Resources/error.png  \n",
            " extracting: FastQC/uk/ac/babraham/FastQC/Resources/fastqc_icon.png  \n",
            "  inflating: FastQC/uk/ac/babraham/FastQC/Resources/fastqc_icon.svg  \n",
            " extracting: FastQC/uk/ac/babraham/FastQC/Resources/fastqc_icon_100.png  \n",
            " extracting: FastQC/uk/ac/babraham/FastQC/Resources/tick.png  \n",
            " extracting: FastQC/uk/ac/babraham/FastQC/Resources/warning.png  \n",
            "   creating: FastQC/uk/ac/babraham/FastQC/Results/\n",
            "  inflating: FastQC/uk/ac/babraham/FastQC/Results/ResultsPanel$ModuleRenderer.class  \n",
            "  inflating: FastQC/uk/ac/babraham/FastQC/Results/ResultsPanel.class  \n",
            "   creating: FastQC/uk/ac/babraham/FastQC/Sequence/\n",
            "  inflating: FastQC/uk/ac/babraham/FastQC/Sequence/BAMFile.class  \n",
            "   creating: FastQC/uk/ac/babraham/FastQC/Sequence/Contaminant/\n",
            "  inflating: FastQC/uk/ac/babraham/FastQC/Sequence/Contaminant/Contaminant.class  \n",
            "  inflating: FastQC/uk/ac/babraham/FastQC/Sequence/Contaminant/ContaminantHit.class  \n",
            "  inflating: FastQC/uk/ac/babraham/FastQC/Sequence/Contaminant/ContaminentFinder.class  \n",
            "  inflating: FastQC/uk/ac/babraham/FastQC/Sequence/Fast5File.class  \n",
            "  inflating: FastQC/uk/ac/babraham/FastQC/Sequence/FastQFile.class  \n",
            "   creating: FastQC/uk/ac/babraham/FastQC/Sequence/QualityEncoding/\n",
            "  inflating: FastQC/uk/ac/babraham/FastQC/Sequence/QualityEncoding/PhredEncoding.class  \n",
            "  inflating: FastQC/uk/ac/babraham/FastQC/Sequence/Sequence.class  \n",
            "  inflating: FastQC/uk/ac/babraham/FastQC/Sequence/SequenceFactory.class  \n",
            "  inflating: FastQC/uk/ac/babraham/FastQC/Sequence/SequenceFile.class  \n",
            "  inflating: FastQC/uk/ac/babraham/FastQC/Sequence/SequenceFileGroup.class  \n",
            "  inflating: FastQC/uk/ac/babraham/FastQC/Sequence/SequenceFormatException.class  \n",
            "   creating: FastQC/uk/ac/babraham/FastQC/Statistics/\n",
            "  inflating: FastQC/uk/ac/babraham/FastQC/Statistics/NormalDistribution.class  \n",
            "  inflating: FastQC/uk/ac/babraham/FastQC/Statistics/PearsonCorrelation.class  \n",
            "   creating: FastQC/uk/ac/babraham/FastQC/Utilities/\n",
            "  inflating: FastQC/uk/ac/babraham/FastQC/Utilities/CasavaBasename.class  \n",
            "  inflating: FastQC/uk/ac/babraham/FastQC/Utilities/HotColdColourGradient.class  \n",
            "  inflating: FastQC/uk/ac/babraham/FastQC/Utilities/ImageToBase64.class  \n",
            "  inflating: FastQC/uk/ac/babraham/FastQC/Utilities/MultiMemberGZIPInputStream.class  \n",
            "  inflating: FastQC/uk/ac/babraham/FastQC/Utilities/NameFormatException.class  \n",
            "  inflating: FastQC/uk/ac/babraham/FastQC/Utilities/NanoporeBasename.class  \n",
            "  inflating: FastQC/uk/ac/babraham/FastQC/Utilities/QualityCount.class  \n",
            "  inflating: FastQC/uk/ac/babraham/FastQC/Utilities/RGB.class  \n"
          ]
        }
      ],
      "source": [
        "#@title\n",
        "!wget https://www.bioinformatics.babraham.ac.uk/projects/fastqc/fastqc_v0.11.9.zip\n",
        "!unzip fastqc_v0.11.9.zip"
      ]
    },
    {
      "cell_type": "markdown",
      "metadata": {
        "id": "F5WJVvst7w4k"
      },
      "source": [
        "Затем сделаем скрипт <code>fastqc</code> выполняемым. В результате выполним анализ качества наших прочтений и положим результаты и все репорты в папку <code>qc</code>, которую перед этим создадим."
      ]
    },
    {
      "cell_type": "code",
      "execution_count": 18,
      "metadata": {
        "colab": {
          "base_uri": "https://localhost:8080/"
        },
        "id": "TcxzHdIr7Rpe",
        "outputId": "019e1dca-c9d8-406e-c831-a61c19ac1297"
      },
      "outputs": [
        {
          "output_type": "stream",
          "name": "stdout",
          "text": [
            "Started analysis of SRR3900953_1.fastq.gz\n",
            "Approx 5% complete for SRR3900953_1.fastq.gz\n",
            "Approx 10% complete for SRR3900953_1.fastq.gz\n",
            "Approx 15% complete for SRR3900953_1.fastq.gz\n",
            "Approx 20% complete for SRR3900953_1.fastq.gz\n",
            "Approx 25% complete for SRR3900953_1.fastq.gz\n",
            "Approx 30% complete for SRR3900953_1.fastq.gz\n",
            "Approx 35% complete for SRR3900953_1.fastq.gz\n",
            "Approx 40% complete for SRR3900953_1.fastq.gz\n",
            "Approx 45% complete for SRR3900953_1.fastq.gz\n",
            "Approx 50% complete for SRR3900953_1.fastq.gz\n",
            "Approx 55% complete for SRR3900953_1.fastq.gz\n",
            "Approx 60% complete for SRR3900953_1.fastq.gz\n",
            "Approx 65% complete for SRR3900953_1.fastq.gz\n",
            "Approx 70% complete for SRR3900953_1.fastq.gz\n",
            "Approx 75% complete for SRR3900953_1.fastq.gz\n",
            "Approx 80% complete for SRR3900953_1.fastq.gz\n",
            "Approx 85% complete for SRR3900953_1.fastq.gz\n",
            "Approx 90% complete for SRR3900953_1.fastq.gz\n",
            "Approx 95% complete for SRR3900953_1.fastq.gz\n",
            "Analysis complete for SRR3900953_1.fastq.gz\n",
            "Started analysis of SRR3900953_2.fastq.gz\n",
            "Approx 5% complete for SRR3900953_2.fastq.gz\n",
            "Approx 10% complete for SRR3900953_2.fastq.gz\n",
            "Approx 15% complete for SRR3900953_2.fastq.gz\n",
            "Approx 20% complete for SRR3900953_2.fastq.gz\n",
            "Approx 25% complete for SRR3900953_2.fastq.gz\n",
            "Approx 30% complete for SRR3900953_2.fastq.gz\n",
            "Approx 35% complete for SRR3900953_2.fastq.gz\n",
            "Approx 40% complete for SRR3900953_2.fastq.gz\n",
            "Approx 45% complete for SRR3900953_2.fastq.gz\n",
            "Approx 50% complete for SRR3900953_2.fastq.gz\n",
            "Approx 55% complete for SRR3900953_2.fastq.gz\n",
            "Approx 60% complete for SRR3900953_2.fastq.gz\n",
            "Approx 65% complete for SRR3900953_2.fastq.gz\n",
            "Approx 70% complete for SRR3900953_2.fastq.gz\n",
            "Approx 75% complete for SRR3900953_2.fastq.gz\n",
            "Approx 80% complete for SRR3900953_2.fastq.gz\n",
            "Approx 85% complete for SRR3900953_2.fastq.gz\n",
            "Approx 90% complete for SRR3900953_2.fastq.gz\n",
            "Approx 95% complete for SRR3900953_2.fastq.gz\n",
            "Analysis complete for SRR3900953_2.fastq.gz\n"
          ]
        }
      ],
      "source": [
        "#@title\n",
        "!chmod +x FastQC/fastqc\n",
        "!mkdir qc\n",
        "!FastQC/fastqc -o qc SRR3900953_1.fastq.gz SRR3900953_2.fastq.gz"
      ]
    },
    {
      "cell_type": "markdown",
      "metadata": {
        "id": "5LPDFI8M-wMO"
      },
      "source": [
        "**Задание**\n",
        "\n",
        "Пожалуйста, посмотрите на .html-репорт, который выдаёт программа FastQC. Посмотрите, какие метрики контроля качества не проходят установленные в этой программе пороги. Объясните результаты. Посмотрите на результат работы FastQC на прочтениях RNA-Seq (загрузите при помощи команды `gdown --id 1tntpS8TBl3ERLMBYnso7tNiHeFVRmk8w`). В чём разница и почему?"
      ]
    },
    {
      "cell_type": "code",
      "execution_count": 19,
      "metadata": {
        "colab": {
          "base_uri": "https://localhost:8080/"
        },
        "id": "HXXvec72-a00",
        "outputId": "4a21ff02-fb11-4bf4-a359-809bd9b38a85"
      },
      "outputs": [
        {
          "output_type": "stream",
          "name": "stdout",
          "text": [
            "Downloading...\n",
            "From: https://drive.google.com/uc?id=1tntpS8TBl3ERLMBYnso7tNiHeFVRmk8w\n",
            "To: /content/RNA-Seq_FastQC_example.html\n",
            "\r  0% 0.00/668k [00:00<?, ?B/s]\r100% 668k/668k [00:00<00:00, 108MB/s]\n"
          ]
        }
      ],
      "source": [
        "#@title\n",
        "!gdown 1tntpS8TBl3ERLMBYnso7tNiHeFVRmk8w"
      ]
    },
    {
      "cell_type": "markdown",
      "metadata": {
        "id": "fk-7OOxP_BHC"
      },
      "source": [
        "### MultiQC\n",
        "\n",
        "Теперь установим программу MultiQC. Она необходима для того, чтобы комбинировать несколько различных отчётов в один. Запустим её, дав путь к директории с отчётами FastQC, и посмотрим на .html-отчёт, который будет получен в результате запуска."
      ]
    },
    {
      "cell_type": "code",
      "execution_count": 20,
      "metadata": {
        "colab": {
          "base_uri": "https://localhost:8080/"
        },
        "id": "UkBWHqrJ7c-h",
        "outputId": "ced00d8c-9811-4bb6-d5ef-e09caa164dc9"
      },
      "outputs": [
        {
          "output_type": "stream",
          "name": "stdout",
          "text": [
            "Looking in indexes: https://pypi.org/simple, https://us-python.pkg.dev/colab-wheels/public/simple/\n",
            "Collecting multiqc\n",
            "  Downloading multiqc-1.13-py3-none-any.whl (1.2 MB)\n",
            "\u001b[K     |████████████████████████████████| 1.2 MB 5.0 MB/s \n",
            "\u001b[?25hRequirement already satisfied: jinja2>=2.9 in /usr/local/lib/python3.7/dist-packages (from multiqc) (2.11.3)\n",
            "Collecting simplejson\n",
            "  Downloading simplejson-3.17.6-cp37-cp37m-manylinux_2_5_x86_64.manylinux1_x86_64.manylinux_2_12_x86_64.manylinux2010_x86_64.whl (130 kB)\n",
            "\u001b[K     |████████████████████████████████| 130 kB 62.1 MB/s \n",
            "\u001b[?25hRequirement already satisfied: numpy in /usr/local/lib/python3.7/dist-packages (from multiqc) (1.21.6)\n",
            "Collecting coloredlogs\n",
            "  Downloading coloredlogs-15.0.1-py2.py3-none-any.whl (46 kB)\n",
            "\u001b[K     |████████████████████████████████| 46 kB 3.5 MB/s \n",
            "\u001b[?25hRequirement already satisfied: future>0.14.0 in /usr/local/lib/python3.7/dist-packages (from multiqc) (0.16.0)\n",
            "Collecting spectra>=0.0.10\n",
            "  Downloading spectra-0.0.11.tar.gz (18 kB)\n",
            "Requirement already satisfied: requests in /usr/local/lib/python3.7/dist-packages (from multiqc) (2.23.0)\n",
            "Collecting rich-click\n",
            "  Downloading rich_click-1.5.2-py3-none-any.whl (20 kB)\n",
            "Requirement already satisfied: pyyaml>=4 in /usr/local/lib/python3.7/dist-packages (from multiqc) (6.0)\n",
            "Requirement already satisfied: networkx>=2.5.1 in /usr/local/lib/python3.7/dist-packages (from multiqc) (2.6.3)\n",
            "Collecting lzstring\n",
            "  Downloading lzstring-1.0.4.tar.gz (4.3 kB)\n",
            "Requirement already satisfied: matplotlib>=2.1.1 in /usr/local/lib/python3.7/dist-packages (from multiqc) (3.2.2)\n",
            "Collecting rich>=10\n",
            "  Downloading rich-12.5.1-py3-none-any.whl (235 kB)\n",
            "\u001b[K     |████████████████████████████████| 235 kB 57.0 MB/s \n",
            "\u001b[?25hRequirement already satisfied: markdown in /usr/local/lib/python3.7/dist-packages (from multiqc) (3.4.1)\n",
            "Requirement already satisfied: click in /usr/local/lib/python3.7/dist-packages (from multiqc) (7.1.2)\n",
            "Requirement already satisfied: MarkupSafe>=0.23 in /usr/local/lib/python3.7/dist-packages (from jinja2>=2.9->multiqc) (2.0.1)\n",
            "Requirement already satisfied: kiwisolver>=1.0.1 in /usr/local/lib/python3.7/dist-packages (from matplotlib>=2.1.1->multiqc) (1.4.4)\n",
            "Requirement already satisfied: pyparsing!=2.0.4,!=2.1.2,!=2.1.6,>=2.0.1 in /usr/local/lib/python3.7/dist-packages (from matplotlib>=2.1.1->multiqc) (3.0.9)\n",
            "Requirement already satisfied: python-dateutil>=2.1 in /usr/local/lib/python3.7/dist-packages (from matplotlib>=2.1.1->multiqc) (2.8.2)\n",
            "Requirement already satisfied: cycler>=0.10 in /usr/local/lib/python3.7/dist-packages (from matplotlib>=2.1.1->multiqc) (0.11.0)\n",
            "Requirement already satisfied: typing-extensions in /usr/local/lib/python3.7/dist-packages (from kiwisolver>=1.0.1->matplotlib>=2.1.1->multiqc) (4.1.1)\n",
            "Requirement already satisfied: six>=1.5 in /usr/local/lib/python3.7/dist-packages (from python-dateutil>=2.1->matplotlib>=2.1.1->multiqc) (1.15.0)\n",
            "Collecting commonmark<0.10.0,>=0.9.0\n",
            "  Downloading commonmark-0.9.1-py2.py3-none-any.whl (51 kB)\n",
            "\u001b[K     |████████████████████████████████| 51 kB 5.9 MB/s \n",
            "\u001b[?25hRequirement already satisfied: pygments<3.0.0,>=2.6.0 in /usr/local/lib/python3.7/dist-packages (from rich>=10->multiqc) (2.6.1)\n",
            "Collecting colormath>=3.0.0\n",
            "  Downloading colormath-3.0.0.tar.gz (39 kB)\n",
            "Collecting humanfriendly>=9.1\n",
            "  Downloading humanfriendly-10.0-py2.py3-none-any.whl (86 kB)\n",
            "\u001b[K     |████████████████████████████████| 86 kB 5.5 MB/s \n",
            "\u001b[?25hRequirement already satisfied: importlib-metadata>=4.4 in /usr/local/lib/python3.7/dist-packages (from markdown->multiqc) (4.12.0)\n",
            "Requirement already satisfied: zipp>=0.5 in /usr/local/lib/python3.7/dist-packages (from importlib-metadata>=4.4->markdown->multiqc) (3.8.1)\n",
            "Requirement already satisfied: chardet<4,>=3.0.2 in /usr/local/lib/python3.7/dist-packages (from requests->multiqc) (3.0.4)\n",
            "Requirement already satisfied: certifi>=2017.4.17 in /usr/local/lib/python3.7/dist-packages (from requests->multiqc) (2022.6.15)\n",
            "Requirement already satisfied: idna<3,>=2.5 in /usr/local/lib/python3.7/dist-packages (from requests->multiqc) (2.10)\n",
            "Requirement already satisfied: urllib3!=1.25.0,!=1.25.1,<1.26,>=1.21.1 in /usr/local/lib/python3.7/dist-packages (from requests->multiqc) (1.24.3)\n",
            "Building wheels for collected packages: spectra, colormath, lzstring\n",
            "  Building wheel for spectra (setup.py) ... \u001b[?25l\u001b[?25hdone\n",
            "  Created wheel for spectra: filename=spectra-0.0.11-py3-none-any.whl size=17488 sha256=a4b0c9057dfb0f7ce08b76e6a7e775f89bcaa8e7a31fcca7af5a3595cda148b1\n",
            "  Stored in directory: /root/.cache/pip/wheels/e3/c8/a4/5a566fafff827fcb5741589e42002686bb29990fbc7b262b5e\n",
            "  Building wheel for colormath (setup.py) ... \u001b[?25l\u001b[?25hdone\n",
            "  Created wheel for colormath: filename=colormath-3.0.0-py3-none-any.whl size=39408 sha256=de7e348b7c92b18bd5e864cda4c3f3b4895787308bfb0d524345e402da43428c\n",
            "  Stored in directory: /root/.cache/pip/wheels/1a/d7/a7/458a4632ccc8bfe436f5e9db9fef1aa84e5d243a1b4b4c7b59\n",
            "  Building wheel for lzstring (setup.py) ... \u001b[?25l\u001b[?25hdone\n",
            "  Created wheel for lzstring: filename=lzstring-1.0.4-py2.py3-none-any.whl size=4590 sha256=4b26f6a02e9e3f7d6a3ab9ffb4243ad8185e5b0f7c9e0743f55672ce4fbda589\n",
            "  Stored in directory: /root/.cache/pip/wheels/f1/e0/9f/2d1e57842b9e3a9f030519f6ea5e55a21ba7d4f5bcbb4ef578\n",
            "Successfully built spectra colormath lzstring\n",
            "Installing collected packages: commonmark, rich, humanfriendly, colormath, spectra, simplejson, rich-click, lzstring, coloredlogs, multiqc\n",
            "Successfully installed coloredlogs-15.0.1 colormath-3.0.0 commonmark-0.9.1 humanfriendly-10.0 lzstring-1.0.4 multiqc-1.13 rich-12.5.1 rich-click-1.5.2 simplejson-3.17.6 spectra-0.0.11\n",
            "\n",
            "  \u001b[34m/\u001b[0m\u001b[32m/\u001b[0m\u001b[31m/\u001b[0m \u001b]8;id=419147;https://multiqc.info\u001b\\\u001b[1mMultiQC\u001b[0m\u001b]8;;\u001b\\ 🔍 \u001b[2m| v1.13\u001b[0m\n",
            "\n",
            "\u001b[34m|           multiqc\u001b[0m | Search path : /content/qc\n",
            "\u001b[2K\u001b[34m|\u001b[0m         \u001b[34msearching\u001b[0m | \u001b[90m━━━━━━━━━━━━━━━━━━━━━━━━━━━━━━━━━━━━━━━━\u001b[0m \u001b[35m100%\u001b[0m \u001b[32m4/4\u001b[0m  \n",
            "\u001b[?25h\u001b[34m|            fastqc\u001b[0m | Found 2 reports\n",
            "\u001b[34m|           multiqc\u001b[0m | Compressing plot data\n",
            "\u001b[34m|           multiqc\u001b[0m | Report      : multiqc_report.html\n",
            "\u001b[34m|           multiqc\u001b[0m | Data        : multiqc_data\n",
            "\u001b[34m|           multiqc\u001b[0m | MultiQC complete\n"
          ]
        }
      ],
      "source": [
        "#@title\n",
        "!pip3 install multiqc\n",
        "!multiqc qc"
      ]
    },
    {
      "cell_type": "markdown",
      "metadata": {
        "id": "nc-9yOg9AoUW"
      },
      "source": [
        "В случае, когда вы работаете сразу с большим количеством образцов, это может значительно ускорить процесс анализа данных, а также легко понять, по какой причине те или иные точки могут быть аутлаерами (например, определить образцы с низким по сравнению с другими покрытием и проч.)\n",
        "\n",
        "После этого можно загрузить .html-отчёт о качестве себе на компьютер и посмотреть, всё ли хорошо с прочтениями. Рассмотрим каждый пункт отчёта и возможные проблемы при анализе bulk RNA-Seq:\n",
        "1. Sequence Quality Histograms\n",
        "2. Per Sequence Quality Scores\n",
        "3. <b>Per Base Sequence Content</b> &mdash; проблемы тут в случае RNA-Seq связаны с особенностью подготовки библиотеки (использовались случайные праймеры)\n",
        "4. Per Sequence GC Content\n",
        "5. Per Base N Content\n",
        "6. Sequence Length Distribution\n",
        "7. <b>Sequence Duplication Levels</b> &mdash; в основе порогов данной метрики лежит предположение, что высокое количество дублирующихся прочтений говорит об артефактах ПЦР (это справедливо для, например, геномных библиотек, в которых встретить два одинаковых рида очень маловероятно). Однако для RNA-Seq-экспериментов это нормально, потому что какие-то гены могут встречаться очень часто из-за высокой копийности их РНК (<a href=\"https://www.bioinformatics.babraham.ac.uk/projects/fastqc/Help/3%20Analysis%20Modules/8%20Duplicate%20Sequences.html\" target=\"_blank\">источник</a>)\n",
        "8. <b>Overrepresented sequences</b> &mdash; проблема вызвана аналогичными седьмому пункту проблемами (<a href=\"https://www.bioinformatics.babraham.ac.uk/projects/fastqc/Help/3%20Analysis%20Modules/9%20Overrepresented%20Sequences.html\" target=\"_blank\">источник</a>)\n",
        "9. <b>Adapter Content</b> &mdash; мы видим, что у нас в большом числе прочтений содержатся технические адаптеры. Однако почти все современные алгоритмы для работы с RNA-Seq (в т.ч. и kallisto и STAR) автоматически прорабатывают эту проблему, поэтому мануального устранения не требуется (<a href=\"https://dnatech.genomecenter.ucdavis.edu/faqs/when-should-i-trim-my-illumina-reads-and-how-should-i-do-it/\" target=\"_blank\">про то, когда и зачем лучше обрезать адаптеры</a>)"
      ]
    },
    {
      "cell_type": "markdown",
      "metadata": {
        "id": "d3uy3diIOves"
      },
      "source": [
        "## Введение в Nexflow\n",
        "\n",
        "NextFlow &mdash; это специальный язык, который позволяет вам запускать целые пайплайны из нескольких последовательно выполняемых программ, следя за тем, чтобы каждая стадия выполнялась строго одна за одной."
      ]
    },
    {
      "cell_type": "code",
      "execution_count": 21,
      "metadata": {
        "colab": {
          "base_uri": "https://localhost:8080/"
        },
        "id": "CXTGOLCzO27n",
        "outputId": "b58a4812-667f-4608-f503-1e42ef377206"
      },
      "outputs": [
        {
          "output_type": "stream",
          "name": "stdout",
          "text": [
            "\u001b[K\n",
            "      N E X T F L O W\n",
            "      version 22.04.5 build 5708\n",
            "      created 15-07-2022 16:09 UTC \n",
            "      cite doi:10.1038/nbt.3820\n",
            "      http://nextflow.io\n",
            "\n",
            "\n",
            "Nextflow installation completed. Please note:\n",
            "- the executable file `nextflow` has been created in the folder: /content\n",
            "- you may complete the installation by moving it to a directory in your $PATH\n",
            "\n"
          ]
        }
      ],
      "source": [
        "#@title\n",
        "!curl -fsSL https://get.nextflow.io | bash"
      ]
    },
    {
      "cell_type": "markdown",
      "metadata": {
        "id": "rFMYCNXkHh8g"
      },
      "source": [
        "Теперь создадим файл <code>my_pipeline.nf</code> со следующим содержанием:\n",
        "```\n",
        "params.SRA = \"SRR000000\"\n",
        "params.results_dir = \"results/\"\n",
        "\n",
        "log.info \"\"\n",
        "log.info \"  Q U A L I T Y   C O N T R O L  \"\n",
        "log.info \"=================================\"\n",
        "log.info \"SRA number         : ${params.SRA}\"\n",
        "log.info \"Results location   : ${params.results_dir}\"\n",
        "```"
      ]
    },
    {
      "cell_type": "markdown",
      "metadata": {
        "id": "Q6z6SrM4LYJF"
      },
      "source": [
        "А теперь попробуйте передать различные значения флагов, которые вы описали выше, команде <code>nextflow run my_pipeline.nf</code>:"
      ]
    },
    {
      "cell_type": "code",
      "execution_count": 29,
      "metadata": {
        "colab": {
          "base_uri": "https://localhost:8080/"
        },
        "id": "OxLuSZbYPETe",
        "outputId": "938f4611-6a4a-469e-b2f4-5df574e1af48"
      },
      "outputs": [
        {
          "output_type": "stream",
          "name": "stdout",
          "text": [
            "N E X T F L O W  ~  version 22.04.5\n",
            "Launching `my_pipeline.nf` [wise_mayer] DSL2 - revision: 60ff6d6c5b\n",
            "\n",
            "  Q U A L I T Y   C O N T R O L  \n",
            "=================================\n",
            "SRA number         : NEW_SRA_NUMBER\n",
            "Results location   : results/\n"
          ]
        }
      ],
      "source": [
        "#@title\n",
        "!./nextflow run --SRA NEW_SRA_NUMBER my_pipeline.nf"
      ]
    },
    {
      "cell_type": "markdown",
      "metadata": {
        "id": "QWaeDHkYLtJp"
      },
      "source": [
        "Теперь модифицируем наш файл так, чтобы он выполнял какой-то процесс. Например, загрузку прочтений по SRA-идентификатору:\n",
        "```\n",
        "params.SRA = \"SRR000000\"\n",
        "params.results_dir = \"results/\"\n",
        "\n",
        "log.info \"\"\n",
        "log.info \"  Q U A L I T Y   C O N T R O L  \"\n",
        "log.info \"=================================\"\n",
        "log.info \"SRA number         : ${params.SRA}\"\n",
        "log.info \"Results location   : ${params.results_dir}\"\n",
        "\n",
        "process DownloadFastQ {\n",
        "  publishDir \"${params.results_dir}\"\n",
        "\n",
        "  output:\n",
        "    path \"reads/*\"\n",
        "\n",
        "  script:\n",
        "    \"\"\"\n",
        "    /content/sratoolkit.3.0.0-ubuntu64/bin/fasterq-dump ${params.SRA} -O reads/\n",
        "    \"\"\"\n",
        "}\n",
        "\n",
        "workflow {\n",
        "  DownloadFastQ()\n",
        "}\n",
        "```\n",
        "\n",
        "А теперь выполните скрипт и проследите за тем, какие файлы создаются в ходе выполнения скрипта:"
      ]
    },
    {
      "cell_type": "code",
      "execution_count": 30,
      "metadata": {
        "colab": {
          "base_uri": "https://localhost:8080/"
        },
        "id": "_iyupT1xNR46",
        "outputId": "2eced126-799c-4b46-cb66-2f92161e3228"
      },
      "outputs": [
        {
          "output_type": "stream",
          "name": "stdout",
          "text": [
            "N E X T F L O W  ~  version 22.04.5\n",
            "Launching `my_pipeline.nf` [chaotic_poincare] DSL2 - revision: d05a66a02d\n",
            "\n",
            "  Q U A L I T Y   C O N T R O L  \n",
            "=================================\n",
            "SRA number         : SRR3900953\n",
            "Results location   : results/\n",
            "[-        ] process > DownloadFastQ -\u001b[K\n",
            "\u001b[2A\n",
            "executor >  local (1)\u001b[K\n",
            "[2d/cb3098] process > DownloadFastQ [  0%] 0 of 1\u001b[K\n",
            "\u001b[3A\n",
            "executor >  local (1)\u001b[K\n",
            "[2d/cb3098] process > DownloadFastQ [  0%] 0 of 1\u001b[K\n",
            "\u001b[3A\n",
            "executor >  local (1)\u001b[K\n",
            "[2d/cb3098] process > DownloadFastQ [100%] 1 of 1 ✔\u001b[K\n",
            "\n"
          ]
        }
      ],
      "source": [
        "#@title\n",
        "!./nextflow run my_pipeline.nf --SRA SRR3900953"
      ]
    },
    {
      "cell_type": "markdown",
      "metadata": {
        "id": "XMZLt0SYbp-w"
      },
      "source": [
        "Теперь модифицируем скрипт так, чтобы в итоговую директорию он сохранял как прочтения, так и результаты работы FastQC для всех прочтений:\n",
        "```\n",
        "params.SRA = \"SRR000000\"\n",
        "params.results_dir = \"results/\"\n",
        "\n",
        "log.info \"\"\n",
        "log.info \"  Q U A L I T Y   C O N T R O L  \"\n",
        "log.info \"=================================\"\n",
        "log.info \"SRA number         : ${params.SRA}\"\n",
        "log.info \"Results location   : ${params.results_dir}\"\n",
        "\n",
        "process DownloadFastQ {\n",
        "  publishDir \"${params.results_dir}\"\n",
        "\n",
        "  output:\n",
        "    path \"reads/*\"\n",
        "\n",
        "  script:\n",
        "    \"\"\"\n",
        "    /content/sratoolkit.3.0.0-ubuntu64/bin/fasterq-dump ${params.SRA} -O reads/\n",
        "    \"\"\"\n",
        "}\n",
        "\n",
        "process QC {\n",
        "  publishDir \"${params.results_dir}\"\n",
        "\n",
        "  input:\n",
        "    path x\n",
        "\n",
        "  output:\n",
        "    path \"qc/*.html\"\n",
        "\n",
        "  script:\n",
        "    \"\"\"\n",
        "    mkdir qc\n",
        "    /content/FastQC/fastqc -o qc $x\n",
        "    \"\"\"\n",
        "}\n",
        "\n",
        "workflow {\n",
        "  DownloadFastQ()\n",
        "  QC( DownloadFastQ.out.collect() )\n",
        "}\n",
        "```"
      ]
    },
    {
      "cell_type": "code",
      "execution_count": 31,
      "metadata": {
        "id": "lTXizHbd6PLb"
      },
      "outputs": [],
      "source": [
        "#@title\n",
        "!rm -r results"
      ]
    },
    {
      "cell_type": "markdown",
      "metadata": {
        "id": "6D2lK0QeDNII"
      },
      "source": [
        "**Задание**\n",
        "\n",
        "Добавьте в пайплайн выполнение MultiQC (чтобы в итоговой директории оказывался только отчёт MultiQC в .html, но без отчётов FastQC)."
      ]
    },
    {
      "cell_type": "code",
      "execution_count": 25,
      "metadata": {
        "id": "V5wB82ZHDV4a"
      },
      "outputs": [],
      "source": [
        "#@title\n"
      ]
    },
    {
      "cell_type": "markdown",
      "metadata": {
        "id": "2lsLkuZmGJ_0"
      },
      "source": [
        "Для того, чтобы обкспечить параллельный запуск сразу нескольких процессов одним и тем же пайплайном, необходимо распарсить аргумент, который мы подаём в переменную <code>SRA</code> как список, после чего запустить наш немного модифицированный пайплайн:\n",
        "```\n",
        "params.results_dir = \"results/\"\n",
        "SRA_list = params.SRA.split(\",\")\n",
        "\n",
        "log.info \"\"\n",
        "log.info \"  Q U A L I T Y   C O N T R O L  \"\n",
        "log.info \"=================================\"\n",
        "log.info \"SRA number         : ${SRA_list}\"\n",
        "log.info \"Results location   : ${params.results_dir}\"\n",
        "\n",
        "process DownloadFastQ {\n",
        "  publishDir \"${params.results_dir}\"\n",
        "\n",
        "  input:\n",
        "    val sra\n",
        "\n",
        "  output:\n",
        "    path \"${sra}/*\"\n",
        "\n",
        "  script:\n",
        "    \"\"\"\n",
        "    /content/sratoolkit.3.0.0-ubuntu64/bin/fasterq-dump ${sra} -O ${sra}/\n",
        "    \"\"\"\n",
        "}\n",
        "\n",
        "process QC {\n",
        "  input:\n",
        "    path x\n",
        "\n",
        "  output:\n",
        "    path \"qc/*\"\n",
        "\n",
        "  script:\n",
        "    \"\"\"\n",
        "    mkdir qc\n",
        "    /content/FastQC/fastqc -o qc $x\n",
        "    \"\"\"\n",
        "}\n",
        "\n",
        "process MultiQC {\n",
        "  publishDir \"${params.results_dir}\"\n",
        "\n",
        "  input:\n",
        "    path x\n",
        "\n",
        "  output:\n",
        "    path \"multiqc_report.html\"\n",
        "\n",
        "  script:\n",
        "    \"\"\"\n",
        "    multiqc $x\n",
        "    \"\"\"\n",
        "}\n",
        "\n",
        "workflow {\n",
        "  data = Channel.of( SRA_list )\n",
        "  DownloadFastQ(data)\n",
        "  QC( DownloadFastQ.out )\n",
        "  MultiQC( QC.out.collect() )\n",
        "}\n",
        "```\n",
        "Для примера возьмём результаты секвенирования пост-ковидного кишечного метагенома (`SRR20851170`, `SRR20851171`, `SRR20851172`, `SRR20851173`, `SRR20851174`, `SRR20851176`, `SRR20851179`, `SRR20851183`)."
      ]
    },
    {
      "cell_type": "code",
      "execution_count": 32,
      "metadata": {
        "colab": {
          "base_uri": "https://localhost:8080/"
        },
        "id": "AAhMSuxpK-Ux",
        "outputId": "09ce96b7-38fa-4418-c0e7-81a41116e2ba"
      },
      "outputs": [
        {
          "output_type": "stream",
          "name": "stdout",
          "text": [
            "N E X T F L O W  ~  version 22.04.5\n",
            "Launching `my_pipeline.nf` [fervent_kalman] DSL2 - revision: 3c0f26639b\n",
            "\n",
            "  Q U A L I T Y   C O N T R O L  \n",
            "=================================\n",
            "SRA number         : [SRR20851170, SRR20851171, SRR20851172, SRR20851173, SRR20851174, SRR20851176, SRR20851179, SRR20851183]\n",
            "Results location   : results/\n",
            "[-        ] process > DownloadFastQ -\u001b[K\n",
            "[-        ] process > QC            -\u001b[K\n",
            "\u001b[3A\n",
            "[-        ] process > DownloadFastQ -\u001b[K\n",
            "[-        ] process > QC            -\u001b[K\n",
            "[-        ] process > MultiQC       -\u001b[K\n",
            "\u001b[4A\n",
            "[-        ] process > DownloadFastQ [  0%] 0 of 2\u001b[K\n",
            "[-        ] process > QC            -\u001b[K\n",
            "[-        ] process > MultiQC       -\u001b[K\n",
            "\u001b[4A\n",
            "[-        ] process > DownloadFastQ [  0%] 0 of 4\u001b[K\n",
            "[-        ] process > QC            -\u001b[K\n",
            "[-        ] process > MultiQC       -\u001b[K\n",
            "\u001b[4A\n",
            "[-        ] process > DownloadFastQ [  0%] 0 of 7\u001b[K\n",
            "[-        ] process > QC            -\u001b[K\n",
            "[-        ] process > MultiQC       -\u001b[K\n",
            "\u001b[4A\n",
            "executor >  local (1)\u001b[K\n",
            "[29/94b59b] process > DownloadFastQ (2) [  0%] 0 of 8\u001b[K\n",
            "[-        ] process > QC                -\u001b[K\n",
            "[-        ] process > MultiQC           -\u001b[K\n",
            "\u001b[5A\n",
            "executor >  local (2)\u001b[K\n",
            "[d9/9763a3] process > DownloadFastQ (1) [  0%] 0 of 8\u001b[K\n",
            "[-        ] process > QC                -\u001b[K\n",
            "[-        ] process > MultiQC           -\u001b[K\n",
            "\u001b[5A\n",
            "executor >  local (3)\u001b[K\n",
            "[17/7a20bc] process > DownloadFastQ (3) [  0%] 0 of 8\u001b[K\n",
            "[-        ] process > QC                -\u001b[K\n",
            "[-        ] process > MultiQC           -\u001b[K\n",
            "\u001b[5A\n",
            "executor >  local (3)\u001b[K\n",
            "[d9/9763a3] process > DownloadFastQ (1) [ 12%] 1 of 8\u001b[K\n",
            "[-        ] process > QC                [  0%] 0 of 1\u001b[K\n",
            "[-        ] process > MultiQC           -\u001b[K\n",
            "\u001b[5A\n",
            "executor >  local (4)\u001b[K\n",
            "[29/94b59b] process > DownloadFastQ (2) [ 25%] 2 of 8\u001b[K\n",
            "[-        ] process > QC                [  0%] 0 of 2\u001b[K\n",
            "[-        ] process > MultiQC           -\u001b[K\n",
            "\u001b[5A\n",
            "executor >  local (5)\u001b[K\n",
            "[95/bf641b] process > DownloadFastQ (5) [ 37%] 3 of 8\u001b[K\n",
            "[-        ] process > QC                [  0%] 0 of 3\u001b[K\n",
            "[-        ] process > MultiQC           -\u001b[K\n",
            "\u001b[5A\n",
            "executor >  local (5)\u001b[K\n",
            "[95/bf641b] process > DownloadFastQ (5) [ 37%] 3 of 8\u001b[K\n",
            "[-        ] process > QC                [  0%] 0 of 3\u001b[K\n",
            "[-        ] process > MultiQC           -\u001b[K\n",
            "\u001b[5A\n",
            "executor >  local (6)\u001b[K\n",
            "[08/106cf2] process > DownloadFastQ (4) [ 50%] 4 of 8\u001b[K\n",
            "[-        ] process > QC                [  0%] 0 of 4\u001b[K\n",
            "[-        ] process > MultiQC           -\u001b[K\n",
            "\u001b[5A\n",
            "executor >  local (7)\u001b[K\n",
            "[95/bf641b] process > DownloadFastQ (5) [ 62%] 5 of 8\u001b[K\n",
            "[-        ] process > QC                [  0%] 0 of 5\u001b[K\n",
            "[-        ] process > MultiQC           -\u001b[K\n",
            "\u001b[5A\n",
            "executor >  local (7)\u001b[K\n",
            "[95/bf641b] process > DownloadFastQ (5) [ 62%] 5 of 8\u001b[K\n",
            "[-        ] process > QC                [  0%] 0 of 5\u001b[K\n",
            "[-        ] process > MultiQC           -\u001b[K\n",
            "\u001b[5A\n",
            "executor >  local (8)\u001b[K\n",
            "[80/627b2b] process > DownloadFastQ (8) [ 75%] 6 of 8\u001b[K\n",
            "[-        ] process > QC                [  0%] 0 of 6\u001b[K\n",
            "[-        ] process > MultiQC           -\u001b[K\n",
            "\u001b[5A\n",
            "executor >  local (9)\u001b[K\n",
            "[f9/441664] process > DownloadFastQ (7) [ 87%] 7 of 8\u001b[K\n",
            "[1a/9d0213] process > QC (1)            [  0%] 0 of 7\u001b[K\n",
            "[-        ] process > MultiQC           -\u001b[K\n",
            "\u001b[5A\n",
            "executor >  local (10)\u001b[K\n",
            "[80/627b2b] process > DownloadFastQ (8) [100%] 8 of 8 ✔\u001b[K\n",
            "[55/891dcb] process > QC (2)            [  0%] 0 of 8\u001b[K\n",
            "[-        ] process > MultiQC           -\u001b[K\n",
            "\u001b[5A\n",
            "executor >  local (11)\u001b[K\n",
            "[80/627b2b] process > DownloadFastQ (8) [100%] 8 of 8 ✔\u001b[K\n",
            "[a8/5c94c2] process > QC (3)            [ 12%] 1 of 8\u001b[K\n",
            "[-        ] process > MultiQC           -\u001b[K\n",
            "\u001b[5A\n",
            "executor >  local (11)\u001b[K\n",
            "[80/627b2b] process > DownloadFastQ (8) [100%] 8 of 8 ✔\u001b[K\n",
            "[55/891dcb] process > QC (2)            [ 25%] 2 of 8\u001b[K\n",
            "[-        ] process > MultiQC           -\u001b[K\n",
            "\u001b[5A\n",
            "executor >  local (12)\u001b[K\n",
            "[80/627b2b] process > DownloadFastQ (8) [100%] 8 of 8 ✔\u001b[K\n",
            "[fa/fcaa3c] process > QC (4)            [ 25%] 2 of 8\u001b[K\n",
            "[-        ] process > MultiQC           -\u001b[K\n",
            "\u001b[5A\n",
            "executor >  local (13)\u001b[K\n",
            "[80/627b2b] process > DownloadFastQ (8) [100%] 8 of 8 ✔\u001b[K\n",
            "[3b/715480] process > QC (5)            [ 37%] 3 of 8\u001b[K\n",
            "[-        ] process > MultiQC           -\u001b[K\n",
            "\u001b[5A\n",
            "executor >  local (13)\u001b[K\n",
            "[80/627b2b] process > DownloadFastQ (8) [100%] 8 of 8 ✔\u001b[K\n",
            "[3b/715480] process > QC (5)            [ 37%] 3 of 8\u001b[K\n",
            "[-        ] process > MultiQC           -\u001b[K\n",
            "\u001b[5A\n",
            "executor >  local (14)\u001b[K\n",
            "[80/627b2b] process > DownloadFastQ (8) [100%] 8 of 8 ✔\u001b[K\n",
            "[7d/f4edbf] process > QC (6)            [ 50%] 4 of 8\u001b[K\n",
            "[-        ] process > MultiQC           -\u001b[K\n",
            "\u001b[5A\n",
            "executor >  local (14)\u001b[K\n",
            "[80/627b2b] process > DownloadFastQ (8) [100%] 8 of 8 ✔\u001b[K\n",
            "[7d/f4edbf] process > QC (6)            [ 50%] 4 of 8\u001b[K\n",
            "[-        ] process > MultiQC           -\u001b[K\n",
            "\u001b[5A\n",
            "executor >  local (15)\u001b[K\n",
            "[80/627b2b] process > DownloadFastQ (8) [100%] 8 of 8 ✔\u001b[K\n",
            "[7d/f4edbf] process > QC (6)            [ 62%] 5 of 8\u001b[K\n",
            "[-        ] process > MultiQC           -\u001b[K\n",
            "\u001b[5A\n",
            "executor >  local (16)\u001b[K\n",
            "[80/627b2b] process > DownloadFastQ (8) [100%] 8 of 8 ✔\u001b[K\n",
            "[f9/844bdc] process > QC (8)            [ 75%] 6 of 8\u001b[K\n",
            "[-        ] process > MultiQC           -\u001b[K\n",
            "\u001b[5A\n",
            "executor >  local (16)\u001b[K\n",
            "[80/627b2b] process > DownloadFastQ (8) [100%] 8 of 8 ✔\u001b[K\n",
            "[e7/7df2c9] process > QC (7)            [ 87%] 7 of 8\u001b[K\n",
            "[-        ] process > MultiQC           -\u001b[K\n",
            "\u001b[5A\n",
            "executor >  local (16)\u001b[K\n",
            "[80/627b2b] process > DownloadFastQ (8) [100%] 8 of 8 ✔\u001b[K\n",
            "[e7/7df2c9] process > QC (7)            [ 87%] 7 of 8 ✔\u001b[K\n",
            "[-        ] process > MultiQC           -\u001b[K\n",
            "\u001b[5A\n",
            "executor >  local (17)\u001b[K\n",
            "[80/627b2b] process > DownloadFastQ (8) [100%] 8 of 8 ✔\u001b[K\n",
            "[f9/844bdc] process > QC (8)            [100%] 8 of 8 ✔\u001b[K\n",
            "[a6/5fb927] process > MultiQC           [  0%] 0 of 1\u001b[K\n",
            "\u001b[5A\n",
            "executor >  local (17)\u001b[K\n",
            "[80/627b2b] process > DownloadFastQ (8) [100%] 8 of 8 ✔\u001b[K\n",
            "[f9/844bdc] process > QC (8)            [100%] 8 of 8 ✔\u001b[K\n",
            "[a6/5fb927] process > MultiQC           [100%] 1 of 1 ✔\u001b[K\n",
            "\u001b[5A\n",
            "executor >  local (17)\u001b[K\n",
            "[80/627b2b] process > DownloadFastQ (8) [100%] 8 of 8 ✔\u001b[K\n",
            "[f9/844bdc] process > QC (8)            [100%] 8 of 8 ✔\u001b[K\n",
            "[a6/5fb927] process > MultiQC           [100%] 1 of 1 ✔\u001b[K\n",
            "\u001b[32;1mCompleted at: 23-Sep-2022 15:29:20\n",
            "Duration    : 2m 22s\n",
            "CPU hours   : 0.1\n",
            "Succeeded   : 17\n",
            "\u001b[22;39m\u001b[K\n",
            "\n"
          ]
        }
      ],
      "source": [
        "#@title\n",
        "!./nextflow run my_pipeline.nf -with-report nextflow_report.html -with-dag flowchart.pdf --SRA SRR20851170,SRR20851171,SRR20851172,SRR20851173,SRR20851174,SRR20851176,SRR20851179,SRR20851183"
      ]
    },
    {
      "cell_type": "markdown",
      "metadata": {
        "id": "SehKyf5baKHu"
      },
      "source": [
        "**Задание**\n",
        "\n",
        "Посмотрите на содержимое файов `flowchart.pdf` и `nextflow_report.html`. Что в них описано и как это может помочь при реализации пайплайна?"
      ]
    },
    {
      "cell_type": "code",
      "execution_count": 27,
      "metadata": {
        "id": "5rPjWOzoR02o"
      },
      "outputs": [],
      "source": [
        "#@title\n"
      ]
    },
    {
      "cell_type": "markdown",
      "metadata": {
        "id": "-w22NmLJ54GS"
      },
      "source": [
        "## Домашнее задание\n",
        "\n",
        "Загрузите прочтения всех экспериментов из статьи <a href=\"https://www.nature.com/articles/s41598-018-23226-4\"><b>Evaluation of two main RNA-seq approaches for gene quantification in clinical RNA sequencing: polyA+ selection versus rRNA depletion</b></a>, в которой сравнивают два протокола подготовки библиотек для bulk RNA-Seq: при помощи деплеции рРНК (=<code>total</code>) или при помощи селекции polyA-транскриптов (=<code>polyA+</code>).\n",
        "\n",
        "При выполнении задания используйте Nextflow pipeline."
      ]
    },
    {
      "cell_type": "markdown",
      "source": [
        "Загрузим с помощью hw_1_pipeline.nf прочтения SRR6410603 и SRR6410607"
      ],
      "metadata": {
        "id": "a4ZrKRmZ4pbl"
      }
    },
    {
      "cell_type": "code",
      "source": [
        "#@title\n",
        "!./nextflow run hw_1_pipeline.nf --SRA SRR6410603,SRR6410607"
      ],
      "metadata": {
        "id": "k56B2lJ_-AVD"
      },
      "execution_count": null,
      "outputs": []
    }
  ],
  "metadata": {
    "colab": {
      "collapsed_sections": [],
      "provenance": []
    },
    "kernelspec": {
      "display_name": "Python 3",
      "name": "python3"
    },
    "language_info": {
      "name": "python"
    }
  },
  "nbformat": 4,
  "nbformat_minor": 0
}